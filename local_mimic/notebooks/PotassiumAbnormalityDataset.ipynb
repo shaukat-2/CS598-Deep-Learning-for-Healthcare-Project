{
 "cells": [
  {
   "cell_type": "code",
   "execution_count": 1,
   "id": "62a27ba0",
   "metadata": {},
   "outputs": [
    {
     "name": "stderr",
     "output_type": "stream",
     "text": [
      "Using TensorFlow backend.\n",
      "C:\\Users\\SameenShaukat\\anaconda3\\envs\\myenv\\lib\\site-packages\\tensorflow\\python\\framework\\dtypes.py:516: FutureWarning: Passing (type, 1) or '1type' as a synonym of type is deprecated; in a future version of numpy, it will be understood as (type, (1,)) / '(1,)type'.\n",
      "  _np_qint8 = np.dtype([(\"qint8\", np.int8, 1)])\n",
      "C:\\Users\\SameenShaukat\\anaconda3\\envs\\myenv\\lib\\site-packages\\tensorflow\\python\\framework\\dtypes.py:517: FutureWarning: Passing (type, 1) or '1type' as a synonym of type is deprecated; in a future version of numpy, it will be understood as (type, (1,)) / '(1,)type'.\n",
      "  _np_quint8 = np.dtype([(\"quint8\", np.uint8, 1)])\n",
      "C:\\Users\\SameenShaukat\\anaconda3\\envs\\myenv\\lib\\site-packages\\tensorflow\\python\\framework\\dtypes.py:518: FutureWarning: Passing (type, 1) or '1type' as a synonym of type is deprecated; in a future version of numpy, it will be understood as (type, (1,)) / '(1,)type'.\n",
      "  _np_qint16 = np.dtype([(\"qint16\", np.int16, 1)])\n",
      "C:\\Users\\SameenShaukat\\anaconda3\\envs\\myenv\\lib\\site-packages\\tensorflow\\python\\framework\\dtypes.py:519: FutureWarning: Passing (type, 1) or '1type' as a synonym of type is deprecated; in a future version of numpy, it will be understood as (type, (1,)) / '(1,)type'.\n",
      "  _np_quint16 = np.dtype([(\"quint16\", np.uint16, 1)])\n",
      "C:\\Users\\SameenShaukat\\anaconda3\\envs\\myenv\\lib\\site-packages\\tensorflow\\python\\framework\\dtypes.py:520: FutureWarning: Passing (type, 1) or '1type' as a synonym of type is deprecated; in a future version of numpy, it will be understood as (type, (1,)) / '(1,)type'.\n",
      "  _np_qint32 = np.dtype([(\"qint32\", np.int32, 1)])\n",
      "C:\\Users\\SameenShaukat\\anaconda3\\envs\\myenv\\lib\\site-packages\\tensorflow\\python\\framework\\dtypes.py:525: FutureWarning: Passing (type, 1) or '1type' as a synonym of type is deprecated; in a future version of numpy, it will be understood as (type, (1,)) / '(1,)type'.\n",
      "  np_resource = np.dtype([(\"resource\", np.ubyte, 1)])\n",
      "C:\\Users\\SameenShaukat\\anaconda3\\envs\\myenv\\lib\\site-packages\\tensorboard\\compat\\tensorflow_stub\\dtypes.py:541: FutureWarning: Passing (type, 1) or '1type' as a synonym of type is deprecated; in a future version of numpy, it will be understood as (type, (1,)) / '(1,)type'.\n",
      "  _np_qint8 = np.dtype([(\"qint8\", np.int8, 1)])\n",
      "C:\\Users\\SameenShaukat\\anaconda3\\envs\\myenv\\lib\\site-packages\\tensorboard\\compat\\tensorflow_stub\\dtypes.py:542: FutureWarning: Passing (type, 1) or '1type' as a synonym of type is deprecated; in a future version of numpy, it will be understood as (type, (1,)) / '(1,)type'.\n",
      "  _np_quint8 = np.dtype([(\"quint8\", np.uint8, 1)])\n",
      "C:\\Users\\SameenShaukat\\anaconda3\\envs\\myenv\\lib\\site-packages\\tensorboard\\compat\\tensorflow_stub\\dtypes.py:543: FutureWarning: Passing (type, 1) or '1type' as a synonym of type is deprecated; in a future version of numpy, it will be understood as (type, (1,)) / '(1,)type'.\n",
      "  _np_qint16 = np.dtype([(\"qint16\", np.int16, 1)])\n",
      "C:\\Users\\SameenShaukat\\anaconda3\\envs\\myenv\\lib\\site-packages\\tensorboard\\compat\\tensorflow_stub\\dtypes.py:544: FutureWarning: Passing (type, 1) or '1type' as a synonym of type is deprecated; in a future version of numpy, it will be understood as (type, (1,)) / '(1,)type'.\n",
      "  _np_quint16 = np.dtype([(\"quint16\", np.uint16, 1)])\n",
      "C:\\Users\\SameenShaukat\\anaconda3\\envs\\myenv\\lib\\site-packages\\tensorboard\\compat\\tensorflow_stub\\dtypes.py:545: FutureWarning: Passing (type, 1) or '1type' as a synonym of type is deprecated; in a future version of numpy, it will be understood as (type, (1,)) / '(1,)type'.\n",
      "  _np_qint32 = np.dtype([(\"qint32\", np.int32, 1)])\n",
      "C:\\Users\\SameenShaukat\\anaconda3\\envs\\myenv\\lib\\site-packages\\tensorboard\\compat\\tensorflow_stub\\dtypes.py:550: FutureWarning: Passing (type, 1) or '1type' as a synonym of type is deprecated; in a future version of numpy, it will be understood as (type, (1,)) / '(1,)type'.\n",
      "  np_resource = np.dtype([(\"resource\", np.ubyte, 1)])\n"
     ]
    }
   ],
   "source": [
    "import pickle\n",
    "import pandas as pd\n",
    "import numpy as np\n",
    "from datetime import datetime, timedelta\n",
    "from sklearn.impute import SimpleImputer\n",
    "from sklearn.preprocessing import StandardScaler\n",
    "from sklearn.linear_model import LogisticRegression\n",
    "from sklearn import metrics as skmetrics\n",
    "from sklearn.metrics import average_precision_score\n",
    "from sklearn.model_selection import *\n",
    "from sklearn.svm import SVC as SVM\n",
    "from keras.models import *\n",
    "from keras.layers import *\n",
    "from keras.layers.normalization import BatchNormalization\n",
    "from keras.layers.convolutional import Convolution1D, MaxPooling1D\n",
    "from keras.layers.embeddings import Embedding\n",
    "from keras.optimizers import *\n",
    "from keras.regularizers import *\n",
    "from keras import metrics\n",
    "from keras import Sequential\n",
    "from keras.layers import Conv2D, Flatten, Dense\n",
    "from keras.callbacks import ModelCheckpoint"
   ]
  },
  {
   "cell_type": "code",
   "execution_count": 2,
   "id": "fef0f469",
   "metadata": {},
   "outputs": [],
   "source": [
    "path_save = \"/local_mimic/save\"\n",
    "path_tables = \"/local_mimic/tables\"\n",
    "path_views = \"/local_mimic/views\"\n",
    "path_chkpt = \"/local_mimic/save/checkpoint\""
   ]
  },
  {
   "cell_type": "code",
   "execution_count": 3,
   "id": "8a02d2c9",
   "metadata": {},
   "outputs": [],
   "source": [
    "labtest = pd.read_csv(path_views + '/labtest_dataset.csv')"
   ]
  },
  {
   "cell_type": "code",
   "execution_count": 4,
   "id": "ad580f98",
   "metadata": {},
   "outputs": [
    {
     "data": {
      "text/html": [
       "<div>\n",
       "<style scoped>\n",
       "    .dataframe tbody tr th:only-of-type {\n",
       "        vertical-align: middle;\n",
       "    }\n",
       "\n",
       "    .dataframe tbody tr th {\n",
       "        vertical-align: top;\n",
       "    }\n",
       "\n",
       "    .dataframe thead th {\n",
       "        text-align: right;\n",
       "    }\n",
       "</style>\n",
       "<table border=\"1\" class=\"dataframe\">\n",
       "  <thead>\n",
       "    <tr style=\"text-align: right;\">\n",
       "      <th></th>\n",
       "      <th>subject_id</th>\n",
       "      <th>hadm_id</th>\n",
       "      <th>hct_med</th>\n",
       "      <th>hct_lowest</th>\n",
       "      <th>hct_highest</th>\n",
       "      <th>hematocrit_first</th>\n",
       "      <th>wbc_first</th>\n",
       "      <th>hgb_first</th>\n",
       "      <th>platelet_first</th>\n",
       "      <th>sodium_first</th>\n",
       "      <th>...</th>\n",
       "      <th>ldh_first</th>\n",
       "      <th>bilirubin_first</th>\n",
       "      <th>alp_first</th>\n",
       "      <th>albumin_first</th>\n",
       "      <th>tropt_first</th>\n",
       "      <th>ck_first</th>\n",
       "      <th>ntbnp_first</th>\n",
       "      <th>lactate_first</th>\n",
       "      <th>hct_abnormal_flg</th>\n",
       "      <th>potassium_abnormal_flg</th>\n",
       "    </tr>\n",
       "  </thead>\n",
       "  <tbody>\n",
       "    <tr>\n",
       "      <th>0</th>\n",
       "      <td>10272</td>\n",
       "      <td>104675</td>\n",
       "      <td>29.95</td>\n",
       "      <td>27.8</td>\n",
       "      <td>36.7</td>\n",
       "      <td>28.7</td>\n",
       "      <td>15.5</td>\n",
       "      <td>8.3</td>\n",
       "      <td>343.0</td>\n",
       "      <td>138.0</td>\n",
       "      <td>...</td>\n",
       "      <td>NaN</td>\n",
       "      <td>0.5</td>\n",
       "      <td>273.0</td>\n",
       "      <td>NaN</td>\n",
       "      <td>NaN</td>\n",
       "      <td>13.0</td>\n",
       "      <td>NaN</td>\n",
       "      <td>1.0</td>\n",
       "      <td>1</td>\n",
       "      <td>0.0</td>\n",
       "    </tr>\n",
       "    <tr>\n",
       "      <th>1</th>\n",
       "      <td>9849</td>\n",
       "      <td>156939</td>\n",
       "      <td>34.50</td>\n",
       "      <td>33.1</td>\n",
       "      <td>35.9</td>\n",
       "      <td>33.1</td>\n",
       "      <td>30.3</td>\n",
       "      <td>11.0</td>\n",
       "      <td>108.0</td>\n",
       "      <td>133.0</td>\n",
       "      <td>...</td>\n",
       "      <td>NaN</td>\n",
       "      <td>NaN</td>\n",
       "      <td>NaN</td>\n",
       "      <td>NaN</td>\n",
       "      <td>NaN</td>\n",
       "      <td>NaN</td>\n",
       "      <td>NaN</td>\n",
       "      <td>1.1</td>\n",
       "      <td>1</td>\n",
       "      <td>0.0</td>\n",
       "    </tr>\n",
       "    <tr>\n",
       "      <th>2</th>\n",
       "      <td>22520</td>\n",
       "      <td>101952</td>\n",
       "      <td>35.40</td>\n",
       "      <td>31.0</td>\n",
       "      <td>36.0</td>\n",
       "      <td>35.0</td>\n",
       "      <td>5.8</td>\n",
       "      <td>11.5</td>\n",
       "      <td>317.0</td>\n",
       "      <td>139.0</td>\n",
       "      <td>...</td>\n",
       "      <td>NaN</td>\n",
       "      <td>0.3</td>\n",
       "      <td>95.0</td>\n",
       "      <td>3.2</td>\n",
       "      <td>0.76</td>\n",
       "      <td>121.0</td>\n",
       "      <td>NaN</td>\n",
       "      <td>NaN</td>\n",
       "      <td>1</td>\n",
       "      <td>0.0</td>\n",
       "    </tr>\n",
       "    <tr>\n",
       "      <th>3</th>\n",
       "      <td>2560</td>\n",
       "      <td>126863</td>\n",
       "      <td>48.70</td>\n",
       "      <td>48.7</td>\n",
       "      <td>48.7</td>\n",
       "      <td>48.7</td>\n",
       "      <td>13.0</td>\n",
       "      <td>15.6</td>\n",
       "      <td>334.0</td>\n",
       "      <td>NaN</td>\n",
       "      <td>...</td>\n",
       "      <td>NaN</td>\n",
       "      <td>NaN</td>\n",
       "      <td>NaN</td>\n",
       "      <td>NaN</td>\n",
       "      <td>NaN</td>\n",
       "      <td>NaN</td>\n",
       "      <td>NaN</td>\n",
       "      <td>NaN</td>\n",
       "      <td>0</td>\n",
       "      <td>0.0</td>\n",
       "    </tr>\n",
       "    <tr>\n",
       "      <th>4</th>\n",
       "      <td>297</td>\n",
       "      <td>107224</td>\n",
       "      <td>52.10</td>\n",
       "      <td>52.1</td>\n",
       "      <td>52.1</td>\n",
       "      <td>52.1</td>\n",
       "      <td>14.9</td>\n",
       "      <td>17.0</td>\n",
       "      <td>342.0</td>\n",
       "      <td>NaN</td>\n",
       "      <td>...</td>\n",
       "      <td>NaN</td>\n",
       "      <td>NaN</td>\n",
       "      <td>NaN</td>\n",
       "      <td>NaN</td>\n",
       "      <td>NaN</td>\n",
       "      <td>NaN</td>\n",
       "      <td>NaN</td>\n",
       "      <td>NaN</td>\n",
       "      <td>1</td>\n",
       "      <td>0.0</td>\n",
       "    </tr>\n",
       "  </tbody>\n",
       "</table>\n",
       "<p>5 rows × 31 columns</p>\n",
       "</div>"
      ],
      "text/plain": [
       "   subject_id  hadm_id  hct_med  hct_lowest  hct_highest  hematocrit_first  \\\n",
       "0       10272   104675    29.95        27.8         36.7              28.7   \n",
       "1        9849   156939    34.50        33.1         35.9              33.1   \n",
       "2       22520   101952    35.40        31.0         36.0              35.0   \n",
       "3        2560   126863    48.70        48.7         48.7              48.7   \n",
       "4         297   107224    52.10        52.1         52.1              52.1   \n",
       "\n",
       "   wbc_first  hgb_first  platelet_first  sodium_first  ...  ldh_first  \\\n",
       "0       15.5        8.3           343.0         138.0  ...        NaN   \n",
       "1       30.3       11.0           108.0         133.0  ...        NaN   \n",
       "2        5.8       11.5           317.0         139.0  ...        NaN   \n",
       "3       13.0       15.6           334.0           NaN  ...        NaN   \n",
       "4       14.9       17.0           342.0           NaN  ...        NaN   \n",
       "\n",
       "   bilirubin_first  alp_first  albumin_first  tropt_first  ck_first  \\\n",
       "0              0.5      273.0            NaN          NaN      13.0   \n",
       "1              NaN        NaN            NaN          NaN       NaN   \n",
       "2              0.3       95.0            3.2         0.76     121.0   \n",
       "3              NaN        NaN            NaN          NaN       NaN   \n",
       "4              NaN        NaN            NaN          NaN       NaN   \n",
       "\n",
       "   ntbnp_first  lactate_first  hct_abnormal_flg  potassium_abnormal_flg  \n",
       "0          NaN            1.0                 1                     0.0  \n",
       "1          NaN            1.1                 1                     0.0  \n",
       "2          NaN            NaN                 1                     0.0  \n",
       "3          NaN            NaN                 0                     0.0  \n",
       "4          NaN            NaN                 1                     0.0  \n",
       "\n",
       "[5 rows x 31 columns]"
      ]
     },
     "execution_count": 4,
     "metadata": {},
     "output_type": "execute_result"
    }
   ],
   "source": [
    "labtest.head()"
   ]
  },
  {
   "cell_type": "code",
   "execution_count": 5,
   "id": "d3360230",
   "metadata": {},
   "outputs": [],
   "source": [
    "features = labtest[labtest.columns[1:29]]"
   ]
  },
  {
   "cell_type": "code",
   "execution_count": 6,
   "id": "f299fc46",
   "metadata": {},
   "outputs": [],
   "source": [
    "labels = labtest['potassium_abnormal_flg']"
   ]
  },
  {
   "cell_type": "code",
   "execution_count": 7,
   "id": "8f8fc285",
   "metadata": {},
   "outputs": [
    {
     "data": {
      "text/html": [
       "<div>\n",
       "<style scoped>\n",
       "    .dataframe tbody tr th:only-of-type {\n",
       "        vertical-align: middle;\n",
       "    }\n",
       "\n",
       "    .dataframe tbody tr th {\n",
       "        vertical-align: top;\n",
       "    }\n",
       "\n",
       "    .dataframe thead th {\n",
       "        text-align: right;\n",
       "    }\n",
       "</style>\n",
       "<table border=\"1\" class=\"dataframe\">\n",
       "  <thead>\n",
       "    <tr style=\"text-align: right;\">\n",
       "      <th></th>\n",
       "      <th>hadm_id</th>\n",
       "      <th>hct_med</th>\n",
       "      <th>hct_lowest</th>\n",
       "      <th>hct_highest</th>\n",
       "      <th>hematocrit_first</th>\n",
       "      <th>wbc_first</th>\n",
       "      <th>hgb_first</th>\n",
       "      <th>platelet_first</th>\n",
       "      <th>sodium_first</th>\n",
       "      <th>potassium_first</th>\n",
       "      <th>...</th>\n",
       "      <th>ast_first</th>\n",
       "      <th>alt_first</th>\n",
       "      <th>ldh_first</th>\n",
       "      <th>bilirubin_first</th>\n",
       "      <th>alp_first</th>\n",
       "      <th>albumin_first</th>\n",
       "      <th>tropt_first</th>\n",
       "      <th>ck_first</th>\n",
       "      <th>ntbnp_first</th>\n",
       "      <th>lactate_first</th>\n",
       "    </tr>\n",
       "  </thead>\n",
       "  <tbody>\n",
       "    <tr>\n",
       "      <th>0</th>\n",
       "      <td>104675</td>\n",
       "      <td>29.95</td>\n",
       "      <td>27.8</td>\n",
       "      <td>36.7</td>\n",
       "      <td>28.7</td>\n",
       "      <td>15.5</td>\n",
       "      <td>8.3</td>\n",
       "      <td>343.0</td>\n",
       "      <td>138.0</td>\n",
       "      <td>4.5</td>\n",
       "      <td>...</td>\n",
       "      <td>15.0</td>\n",
       "      <td>6.0</td>\n",
       "      <td>NaN</td>\n",
       "      <td>0.5</td>\n",
       "      <td>273.0</td>\n",
       "      <td>NaN</td>\n",
       "      <td>NaN</td>\n",
       "      <td>13.0</td>\n",
       "      <td>NaN</td>\n",
       "      <td>1.0</td>\n",
       "    </tr>\n",
       "    <tr>\n",
       "      <th>1</th>\n",
       "      <td>156939</td>\n",
       "      <td>34.50</td>\n",
       "      <td>33.1</td>\n",
       "      <td>35.9</td>\n",
       "      <td>33.1</td>\n",
       "      <td>30.3</td>\n",
       "      <td>11.0</td>\n",
       "      <td>108.0</td>\n",
       "      <td>133.0</td>\n",
       "      <td>4.2</td>\n",
       "      <td>...</td>\n",
       "      <td>NaN</td>\n",
       "      <td>NaN</td>\n",
       "      <td>NaN</td>\n",
       "      <td>NaN</td>\n",
       "      <td>NaN</td>\n",
       "      <td>NaN</td>\n",
       "      <td>NaN</td>\n",
       "      <td>NaN</td>\n",
       "      <td>NaN</td>\n",
       "      <td>1.1</td>\n",
       "    </tr>\n",
       "    <tr>\n",
       "      <th>2</th>\n",
       "      <td>101952</td>\n",
       "      <td>35.40</td>\n",
       "      <td>31.0</td>\n",
       "      <td>36.0</td>\n",
       "      <td>35.0</td>\n",
       "      <td>5.8</td>\n",
       "      <td>11.5</td>\n",
       "      <td>317.0</td>\n",
       "      <td>139.0</td>\n",
       "      <td>4.0</td>\n",
       "      <td>...</td>\n",
       "      <td>26.0</td>\n",
       "      <td>18.0</td>\n",
       "      <td>NaN</td>\n",
       "      <td>0.3</td>\n",
       "      <td>95.0</td>\n",
       "      <td>3.2</td>\n",
       "      <td>0.76</td>\n",
       "      <td>121.0</td>\n",
       "      <td>NaN</td>\n",
       "      <td>NaN</td>\n",
       "    </tr>\n",
       "    <tr>\n",
       "      <th>3</th>\n",
       "      <td>126863</td>\n",
       "      <td>48.70</td>\n",
       "      <td>48.7</td>\n",
       "      <td>48.7</td>\n",
       "      <td>48.7</td>\n",
       "      <td>13.0</td>\n",
       "      <td>15.6</td>\n",
       "      <td>334.0</td>\n",
       "      <td>NaN</td>\n",
       "      <td>NaN</td>\n",
       "      <td>...</td>\n",
       "      <td>NaN</td>\n",
       "      <td>NaN</td>\n",
       "      <td>NaN</td>\n",
       "      <td>NaN</td>\n",
       "      <td>NaN</td>\n",
       "      <td>NaN</td>\n",
       "      <td>NaN</td>\n",
       "      <td>NaN</td>\n",
       "      <td>NaN</td>\n",
       "      <td>NaN</td>\n",
       "    </tr>\n",
       "    <tr>\n",
       "      <th>4</th>\n",
       "      <td>107224</td>\n",
       "      <td>52.10</td>\n",
       "      <td>52.1</td>\n",
       "      <td>52.1</td>\n",
       "      <td>52.1</td>\n",
       "      <td>14.9</td>\n",
       "      <td>17.0</td>\n",
       "      <td>342.0</td>\n",
       "      <td>NaN</td>\n",
       "      <td>NaN</td>\n",
       "      <td>...</td>\n",
       "      <td>NaN</td>\n",
       "      <td>NaN</td>\n",
       "      <td>NaN</td>\n",
       "      <td>NaN</td>\n",
       "      <td>NaN</td>\n",
       "      <td>NaN</td>\n",
       "      <td>NaN</td>\n",
       "      <td>NaN</td>\n",
       "      <td>NaN</td>\n",
       "      <td>NaN</td>\n",
       "    </tr>\n",
       "  </tbody>\n",
       "</table>\n",
       "<p>5 rows × 28 columns</p>\n",
       "</div>"
      ],
      "text/plain": [
       "   hadm_id  hct_med  hct_lowest  hct_highest  hematocrit_first  wbc_first  \\\n",
       "0   104675    29.95        27.8         36.7              28.7       15.5   \n",
       "1   156939    34.50        33.1         35.9              33.1       30.3   \n",
       "2   101952    35.40        31.0         36.0              35.0        5.8   \n",
       "3   126863    48.70        48.7         48.7              48.7       13.0   \n",
       "4   107224    52.10        52.1         52.1              52.1       14.9   \n",
       "\n",
       "   hgb_first  platelet_first  sodium_first  potassium_first  ...  ast_first  \\\n",
       "0        8.3           343.0         138.0              4.5  ...       15.0   \n",
       "1       11.0           108.0         133.0              4.2  ...        NaN   \n",
       "2       11.5           317.0         139.0              4.0  ...       26.0   \n",
       "3       15.6           334.0           NaN              NaN  ...        NaN   \n",
       "4       17.0           342.0           NaN              NaN  ...        NaN   \n",
       "\n",
       "   alt_first  ldh_first  bilirubin_first  alp_first  albumin_first  \\\n",
       "0        6.0        NaN              0.5      273.0            NaN   \n",
       "1        NaN        NaN              NaN        NaN            NaN   \n",
       "2       18.0        NaN              0.3       95.0            3.2   \n",
       "3        NaN        NaN              NaN        NaN            NaN   \n",
       "4        NaN        NaN              NaN        NaN            NaN   \n",
       "\n",
       "   tropt_first  ck_first  ntbnp_first  lactate_first  \n",
       "0          NaN      13.0          NaN            1.0  \n",
       "1          NaN       NaN          NaN            1.1  \n",
       "2         0.76     121.0          NaN            NaN  \n",
       "3          NaN       NaN          NaN            NaN  \n",
       "4          NaN       NaN          NaN            NaN  \n",
       "\n",
       "[5 rows x 28 columns]"
      ]
     },
     "execution_count": 7,
     "metadata": {},
     "output_type": "execute_result"
    }
   ],
   "source": [
    "features.head(5)"
   ]
  },
  {
   "cell_type": "code",
   "execution_count": 8,
   "id": "4c39a75a",
   "metadata": {},
   "outputs": [],
   "source": [
    "features = features.apply(lambda x: x.fillna(round(x.mean(),2),axis=0))"
   ]
  },
  {
   "cell_type": "code",
   "execution_count": 9,
   "id": "c810f44a",
   "metadata": {},
   "outputs": [],
   "source": [
    "labels = labels.fillna(0)"
   ]
  },
  {
   "cell_type": "markdown",
   "id": "10a02346",
   "metadata": {},
   "source": [
    "Regression Preparation"
   ]
  },
  {
   "cell_type": "code",
   "execution_count": 10,
   "id": "407b8ef0",
   "metadata": {},
   "outputs": [],
   "source": [
    "imputer = SimpleImputer(missing_values=np.nan, strategy='mean',  verbose=0, copy=True)\n",
    "imputer.fit(features)\n",
    "features = imputer.transform(features)\n",
    "scaler = StandardScaler()\n",
    "scaler.fit(features)\n",
    "features = scaler.transform(features)"
   ]
  },
  {
   "cell_type": "code",
   "execution_count": 11,
   "id": "e16d3cd7",
   "metadata": {},
   "outputs": [],
   "source": [
    "X_train, X_test, y_train, y_test = train_test_split(features, labels, test_size=0.20, random_state=42)"
   ]
  },
  {
   "cell_type": "code",
   "execution_count": 13,
   "id": "d616edf0",
   "metadata": {},
   "outputs": [
    {
     "data": {
      "text/plain": [
       "LogisticRegression(C=0.0001, class_weight=None, dual=False, fit_intercept=True,\n",
       "                   intercept_scaling=1, l1_ratio=None, max_iter=100,\n",
       "                   multi_class='auto', n_jobs=None, penalty='l2',\n",
       "                   random_state=42, solver='lbfgs', tol=0.0001, verbose=0,\n",
       "                   warm_start=False)"
      ]
     },
     "execution_count": 13,
     "metadata": {},
     "output_type": "execute_result"
    }
   ],
   "source": [
    "penalty = 'l2'\n",
    "C=0.0001\n",
    "logreg = LogisticRegression(penalty=penalty, C=C, random_state=42)\n",
    "logreg.fit(X_train, y_train)"
   ]
  },
  {
   "cell_type": "code",
   "execution_count": 14,
   "id": "32a46082",
   "metadata": {},
   "outputs": [],
   "source": [
    "filename = path_chkpt + '/PotassiumLabtest/lr_best_model'\n",
    "pickle.dump(logreg, open(filename, 'wb'))"
   ]
  },
  {
   "cell_type": "code",
   "execution_count": 15,
   "id": "2b90dfc2",
   "metadata": {},
   "outputs": [],
   "source": [
    "prediction = logreg.predict_proba(X_test)[:, 1]"
   ]
  },
  {
   "cell_type": "code",
   "execution_count": 16,
   "id": "40c73edc",
   "metadata": {},
   "outputs": [],
   "source": [
    "y_pred=logreg.predict(X_test)"
   ]
  },
  {
   "cell_type": "code",
   "execution_count": 17,
   "id": "1466a026",
   "metadata": {},
   "outputs": [
    {
     "data": {
      "text/plain": [
       "array([[9916,    6],\n",
       "       [1523,   21]], dtype=int64)"
      ]
     },
     "execution_count": 17,
     "metadata": {},
     "output_type": "execute_result"
    }
   ],
   "source": [
    "cnf_matrix = skmetrics.confusion_matrix(y_test, y_pred)\n",
    "cnf_matrix"
   ]
  },
  {
   "cell_type": "code",
   "execution_count": 18,
   "id": "69470990",
   "metadata": {},
   "outputs": [
    {
     "name": "stdout",
     "output_type": "stream",
     "text": [
      "Accuracy: 0.866649223792081\n",
      "Precision: 0.7777777777777778\n",
      "Recall: 0.013601036269430052\n"
     ]
    }
   ],
   "source": [
    "print(\"Accuracy:\",skmetrics.accuracy_score(y_test, y_pred))\n",
    "print(\"Precision:\",skmetrics.precision_score(y_test, y_pred))\n",
    "print(\"Recall:\",skmetrics.recall_score(y_test, y_pred))"
   ]
  },
  {
   "cell_type": "code",
   "execution_count": 19,
   "id": "951b88ee",
   "metadata": {},
   "outputs": [],
   "source": [
    "y_pred_proba = logreg.predict_proba(X_test)[::,1]\n",
    "fpr, tpr, _ = skmetrics.roc_curve(y_test,  y_pred_proba)\n",
    "auc = skmetrics.roc_auc_score(y_test, y_pred_proba)"
   ]
  },
  {
   "cell_type": "code",
   "execution_count": 20,
   "id": "e9212226",
   "metadata": {},
   "outputs": [
    {
     "name": "stdout",
     "output_type": "stream",
     "text": [
      "AUC: 0.6093787370505487\n"
     ]
    }
   ],
   "source": [
    "print(\"AUC:\",auc)"
   ]
  },
  {
   "cell_type": "code",
   "execution_count": 21,
   "id": "121c9df5",
   "metadata": {},
   "outputs": [
    {
     "data": {
      "text/plain": [
       "0.3863233532948928"
      ]
     },
     "execution_count": 21,
     "metadata": {},
     "output_type": "execute_result"
    }
   ],
   "source": [
    "average_precision_score(y_test, y_pred_proba)"
   ]
  },
  {
   "cell_type": "markdown",
   "id": "e58c54ab",
   "metadata": {},
   "source": [
    "SVM Preparation"
   ]
  },
  {
   "cell_type": "code",
   "execution_count": 22,
   "id": "054ee325",
   "metadata": {},
   "outputs": [],
   "source": [
    "svm_model = SVM(kernel = 'linear', probability=True)"
   ]
  },
  {
   "cell_type": "code",
   "execution_count": null,
   "id": "2c8462e0",
   "metadata": {},
   "outputs": [],
   "source": [
    "svm_model.fit(X_train, y_train)"
   ]
  },
  {
   "cell_type": "code",
   "execution_count": null,
   "id": "9acb7856",
   "metadata": {},
   "outputs": [],
   "source": [
    "filename = path_chkpt + '/PotassiumLabtest/svm_best_model'\n",
    "pickle.dump(svm_model, open(filename, 'wb'))"
   ]
  },
  {
   "cell_type": "code",
   "execution_count": null,
   "id": "b72e872c",
   "metadata": {},
   "outputs": [],
   "source": [
    "prediction_probabilities = svm_model.predict_proba(X_test)[::,1]"
   ]
  },
  {
   "cell_type": "code",
   "execution_count": null,
   "id": "e6629e1a",
   "metadata": {},
   "outputs": [],
   "source": [
    "label_prediction =svm_model.predict(X_test)"
   ]
  },
  {
   "cell_type": "code",
   "execution_count": 27,
   "id": "94a86c05",
   "metadata": {},
   "outputs": [
    {
     "data": {
      "text/plain": [
       "array([[9922,    0],\n",
       "       [1544,    0]], dtype=int64)"
      ]
     },
     "execution_count": 27,
     "metadata": {},
     "output_type": "execute_result"
    }
   ],
   "source": [
    "cnf_matrix = skmetrics.confusion_matrix(y_test, label_prediction)\n",
    "cnf_matrix"
   ]
  },
  {
   "cell_type": "code",
   "execution_count": 28,
   "id": "5a0d597d",
   "metadata": {},
   "outputs": [
    {
     "name": "stdout",
     "output_type": "stream",
     "text": [
      "Accuracy: 0.8653410081981511\n",
      "Precision: 0.0\n",
      "Recall: 0.0\n"
     ]
    },
    {
     "name": "stderr",
     "output_type": "stream",
     "text": [
      "C:\\Users\\SameenShaukat\\anaconda3\\envs\\myenv\\lib\\site-packages\\sklearn\\metrics\\_classification.py:1268: UndefinedMetricWarning: Precision is ill-defined and being set to 0.0 due to no predicted samples. Use `zero_division` parameter to control this behavior.\n",
      "  _warn_prf(average, modifier, msg_start, len(result))\n"
     ]
    }
   ],
   "source": [
    "print(\"Accuracy:\",skmetrics.accuracy_score(y_test, label_prediction))\n",
    "print(\"Precision:\",skmetrics.precision_score(y_test, label_prediction))\n",
    "print(\"Recall:\",skmetrics.recall_score(y_test, label_prediction))"
   ]
  },
  {
   "cell_type": "code",
   "execution_count": 29,
   "id": "ac779d5d",
   "metadata": {},
   "outputs": [],
   "source": [
    "fpr, tpr, _ = skmetrics.roc_curve(y_test,  prediction_probabilities)\n",
    "auc = skmetrics.roc_auc_score(y_test, prediction_probabilities)"
   ]
  },
  {
   "cell_type": "code",
   "execution_count": 30,
   "id": "592658f3",
   "metadata": {},
   "outputs": [
    {
     "name": "stdout",
     "output_type": "stream",
     "text": [
      "AUC: 0.5698707692018469\n"
     ]
    }
   ],
   "source": [
    "print(\"AUC:\",auc)"
   ]
  },
  {
   "cell_type": "code",
   "execution_count": 31,
   "id": "6ba5f74e",
   "metadata": {},
   "outputs": [
    {
     "data": {
      "text/plain": [
       "0.4715286839988409"
      ]
     },
     "execution_count": 31,
     "metadata": {},
     "output_type": "execute_result"
    }
   ],
   "source": [
    "average_precision_score(y_test, prediction_probabilities)"
   ]
  },
  {
   "cell_type": "markdown",
   "id": "fe0397ec",
   "metadata": {},
   "source": [
    "LSTM Preparation"
   ]
  },
  {
   "cell_type": "code",
   "execution_count": 32,
   "id": "81c51e6e",
   "metadata": {},
   "outputs": [],
   "source": [
    "filename = path_chkpt + '/PotassiumLabtest/lstm_best_model'\n",
    "checkpoint = ModelCheckpoint(filename, monitor='val_loss', verbose=1, save_best_only=True, mode='max')"
   ]
  },
  {
   "cell_type": "code",
   "execution_count": 33,
   "id": "bea9687a",
   "metadata": {},
   "outputs": [],
   "source": [
    "X = features\n",
    "y = labels.to_numpy()\n",
    "input_shape = (X.shape[1], X.shape[-1])"
   ]
  },
  {
   "cell_type": "code",
   "execution_count": 34,
   "id": "2dfdf94e",
   "metadata": {},
   "outputs": [],
   "source": [
    "def lstm_model(input_shape, hidden = 256, targets = 1, learn_rate = 1e-4):\n",
    "    model = Sequential()\n",
    "    #model.add(Bidirectional(LSTM(hidden), merge_mode = 'concat'))\n",
    "    model.add(Activation('tanh'))\n",
    "    model.add(Dropout(0.5))\n",
    "    model.add(Dense(targets))\n",
    "    model.add(Activation ('sigmoid'))\n",
    "    model.compile(loss='binary_crossentropy', \n",
    "    optimizer=Adam(lr=learn_rate, beta_1 =.5 ), metrics=['accuracy'])\n",
    "    return (model)"
   ]
  },
  {
   "cell_type": "code",
   "execution_count": 35,
   "id": "67c46c93",
   "metadata": {},
   "outputs": [
    {
     "name": "stdout",
     "output_type": "stream",
     "text": [
      "WARNING:tensorflow:From C:\\Users\\SameenShaukat\\anaconda3\\envs\\myenv\\lib\\site-packages\\keras\\backend\\tensorflow_backend.py:74: The name tf.get_default_graph is deprecated. Please use tf.compat.v1.get_default_graph instead.\n",
      "\n",
      "WARNING:tensorflow:From C:\\Users\\SameenShaukat\\anaconda3\\envs\\myenv\\lib\\site-packages\\keras\\optimizers.py:790: The name tf.train.Optimizer is deprecated. Please use tf.compat.v1.train.Optimizer instead.\n",
      "\n"
     ]
    }
   ],
   "source": [
    "lstm_model = lstm_model(input_shape=input_shape, targets=1, hidden = 256, learn_rate=1e-4)"
   ]
  },
  {
   "cell_type": "code",
   "execution_count": 36,
   "id": "b70fb902",
   "metadata": {},
   "outputs": [
    {
     "name": "stdout",
     "output_type": "stream",
     "text": [
      "WARNING:tensorflow:From C:\\Users\\SameenShaukat\\anaconda3\\envs\\myenv\\lib\\site-packages\\keras\\backend\\tensorflow_backend.py:517: The name tf.placeholder is deprecated. Please use tf.compat.v1.placeholder instead.\n",
      "\n",
      "WARNING:tensorflow:From C:\\Users\\SameenShaukat\\anaconda3\\envs\\myenv\\lib\\site-packages\\keras\\backend\\tensorflow_backend.py:133: The name tf.placeholder_with_default is deprecated. Please use tf.compat.v1.placeholder_with_default instead.\n",
      "\n",
      "WARNING:tensorflow:From C:\\Users\\SameenShaukat\\anaconda3\\envs\\myenv\\lib\\site-packages\\keras\\backend\\tensorflow_backend.py:3445: calling dropout (from tensorflow.python.ops.nn_ops) with keep_prob is deprecated and will be removed in a future version.\n",
      "Instructions for updating:\n",
      "Please use `rate` instead of `keep_prob`. Rate should be set to `rate = 1 - keep_prob`.\n",
      "WARNING:tensorflow:From C:\\Users\\SameenShaukat\\anaconda3\\envs\\myenv\\lib\\site-packages\\keras\\backend\\tensorflow_backend.py:4138: The name tf.random_uniform is deprecated. Please use tf.random.uniform instead.\n",
      "\n",
      "WARNING:tensorflow:From C:\\Users\\SameenShaukat\\anaconda3\\envs\\myenv\\lib\\site-packages\\keras\\backend\\tensorflow_backend.py:3376: The name tf.log is deprecated. Please use tf.math.log instead.\n",
      "\n",
      "WARNING:tensorflow:From C:\\Users\\SameenShaukat\\anaconda3\\envs\\myenv\\lib\\site-packages\\tensorflow\\python\\ops\\nn_impl.py:180: add_dispatch_support.<locals>.wrapper (from tensorflow.python.ops.array_ops) is deprecated and will be removed in a future version.\n",
      "Instructions for updating:\n",
      "Use tf.where in 2.0, which has the same broadcast rule as np.where\n",
      "Train on 45862 samples, validate on 11466 samples\n",
      "Epoch 1/100\n",
      " - 2s - loss: 0.7040 - acc: 0.5925 - val_loss: 0.6354 - val_acc: 0.7180\n",
      "\n",
      "Epoch 00001: val_loss improved from -inf to 0.63540, saving model to C:/Users/SameenShaukat/Downloads/Project/DL4H-Project/local_mimic/save/checkpoint/PotassiumLabtest/lstm_best_model\n",
      "Epoch 2/100\n",
      " - 1s - loss: 0.6250 - acc: 0.7110 - val_loss: 0.5766 - val_acc: 0.8113\n",
      "\n",
      "Epoch 00002: val_loss did not improve from 0.63540\n",
      "Epoch 3/100\n",
      " - 1s - loss: 0.5725 - acc: 0.7829 - val_loss: 0.5333 - val_acc: 0.8500\n",
      "\n",
      "Epoch 00003: val_loss did not improve from 0.63540\n",
      "Epoch 4/100\n",
      " - 2s - loss: 0.5312 - acc: 0.8247 - val_loss: 0.4989 - val_acc: 0.8629\n",
      "\n",
      "Epoch 00004: val_loss did not improve from 0.63540\n",
      "Epoch 5/100\n",
      " - 1s - loss: 0.5010 - acc: 0.8416 - val_loss: 0.4707 - val_acc: 0.8695\n",
      "\n",
      "Epoch 00005: val_loss did not improve from 0.63540\n",
      "Epoch 6/100\n",
      " - 1s - loss: 0.4741 - acc: 0.8546 - val_loss: 0.4476 - val_acc: 0.8737\n",
      "\n",
      "Epoch 00006: val_loss did not improve from 0.63540\n",
      "Epoch 7/100\n",
      " - 1s - loss: 0.4544 - acc: 0.8592 - val_loss: 0.4286 - val_acc: 0.8764\n",
      "\n",
      "Epoch 00007: val_loss did not improve from 0.63540\n",
      "Epoch 8/100\n",
      " - 1s - loss: 0.4362 - acc: 0.8635 - val_loss: 0.4129 - val_acc: 0.8773\n",
      "\n",
      "Epoch 00008: val_loss did not improve from 0.63540\n",
      "Epoch 9/100\n",
      " - 1s - loss: 0.4237 - acc: 0.8646 - val_loss: 0.4003 - val_acc: 0.8774\n",
      "\n",
      "Epoch 00009: val_loss did not improve from 0.63540\n",
      "Epoch 10/100\n",
      " - 1s - loss: 0.4120 - acc: 0.8655 - val_loss: 0.3901 - val_acc: 0.8775\n",
      "\n",
      "Epoch 00010: val_loss did not improve from 0.63540\n",
      "Epoch 11/100\n",
      " - 1s - loss: 0.4043 - acc: 0.8665 - val_loss: 0.3823 - val_acc: 0.8775\n",
      "\n",
      "Epoch 00011: val_loss did not improve from 0.63540\n",
      "Epoch 12/100\n",
      " - 1s - loss: 0.3988 - acc: 0.8664 - val_loss: 0.3764 - val_acc: 0.8774\n",
      "\n",
      "Epoch 00012: val_loss did not improve from 0.63540\n",
      "Epoch 13/100\n",
      " - 2s - loss: 0.3939 - acc: 0.8669 - val_loss: 0.3720 - val_acc: 0.8772\n",
      "\n",
      "Epoch 00013: val_loss did not improve from 0.63540\n",
      "Epoch 14/100\n",
      " - 1s - loss: 0.3902 - acc: 0.8668 - val_loss: 0.3687 - val_acc: 0.8772\n",
      "\n",
      "Epoch 00014: val_loss did not improve from 0.63540\n",
      "Epoch 15/100\n",
      " - 1s - loss: 0.3881 - acc: 0.8666 - val_loss: 0.3663 - val_acc: 0.8772\n",
      "\n",
      "Epoch 00015: val_loss did not improve from 0.63540\n",
      "Epoch 16/100\n",
      " - 2s - loss: 0.3851 - acc: 0.8667 - val_loss: 0.3645 - val_acc: 0.8772\n",
      "\n",
      "Epoch 00016: val_loss did not improve from 0.63540\n",
      "Epoch 17/100\n",
      " - 1s - loss: 0.3852 - acc: 0.8665 - val_loss: 0.3633 - val_acc: 0.8771\n",
      "\n",
      "Epoch 00017: val_loss did not improve from 0.63540\n",
      "Epoch 18/100\n",
      " - 1s - loss: 0.3842 - acc: 0.8667 - val_loss: 0.3624 - val_acc: 0.8772\n",
      "\n",
      "Epoch 00018: val_loss did not improve from 0.63540\n",
      "Epoch 19/100\n",
      " - 1s - loss: 0.3836 - acc: 0.8665 - val_loss: 0.3617 - val_acc: 0.8772\n",
      "\n",
      "Epoch 00019: val_loss did not improve from 0.63540\n",
      "Epoch 20/100\n",
      " - 1s - loss: 0.3821 - acc: 0.8666 - val_loss: 0.3611 - val_acc: 0.8772\n",
      "\n",
      "Epoch 00020: val_loss did not improve from 0.63540\n",
      "Epoch 21/100\n",
      " - 2s - loss: 0.3820 - acc: 0.8665 - val_loss: 0.3606 - val_acc: 0.8772\n",
      "\n",
      "Epoch 00021: val_loss did not improve from 0.63540\n",
      "Epoch 22/100\n",
      " - 2s - loss: 0.3826 - acc: 0.8665 - val_loss: 0.3603 - val_acc: 0.8772\n",
      "\n",
      "Epoch 00022: val_loss did not improve from 0.63540\n",
      "Epoch 23/100\n",
      " - 1s - loss: 0.3827 - acc: 0.8664 - val_loss: 0.3600 - val_acc: 0.8772\n",
      "\n",
      "Epoch 00023: val_loss did not improve from 0.63540\n",
      "Epoch 24/100\n",
      " - 1s - loss: 0.3823 - acc: 0.8663 - val_loss: 0.3599 - val_acc: 0.8772\n",
      "\n",
      "Epoch 00024: val_loss did not improve from 0.63540\n",
      "Epoch 25/100\n",
      " - 1s - loss: 0.3819 - acc: 0.8664 - val_loss: 0.3597 - val_acc: 0.8772\n",
      "\n",
      "Epoch 00025: val_loss did not improve from 0.63540\n",
      "Epoch 26/100\n",
      " - 1s - loss: 0.3821 - acc: 0.8665 - val_loss: 0.3595 - val_acc: 0.8772\n",
      "\n",
      "Epoch 00026: val_loss did not improve from 0.63540\n",
      "Epoch 27/100\n",
      " - 1s - loss: 0.3825 - acc: 0.8664 - val_loss: 0.3594 - val_acc: 0.8772\n",
      "\n",
      "Epoch 00027: val_loss did not improve from 0.63540\n",
      "Epoch 28/100\n",
      " - 2s - loss: 0.3818 - acc: 0.8663 - val_loss: 0.3592 - val_acc: 0.8772\n",
      "\n",
      "Epoch 00028: val_loss did not improve from 0.63540\n",
      "Epoch 29/100\n",
      " - 1s - loss: 0.3818 - acc: 0.8664 - val_loss: 0.3591 - val_acc: 0.8772\n",
      "\n",
      "Epoch 00029: val_loss did not improve from 0.63540\n",
      "Epoch 30/100\n",
      " - 1s - loss: 0.3820 - acc: 0.8664 - val_loss: 0.3590 - val_acc: 0.8772\n",
      "\n",
      "Epoch 00030: val_loss did not improve from 0.63540\n",
      "Epoch 31/100\n",
      " - 1s - loss: 0.3815 - acc: 0.8666 - val_loss: 0.3590 - val_acc: 0.8772\n",
      "\n",
      "Epoch 00031: val_loss did not improve from 0.63540\n",
      "Epoch 32/100\n",
      " - 1s - loss: 0.3826 - acc: 0.8664 - val_loss: 0.3590 - val_acc: 0.8772\n",
      "\n",
      "Epoch 00032: val_loss did not improve from 0.63540\n",
      "Epoch 33/100\n",
      " - 1s - loss: 0.3820 - acc: 0.8664 - val_loss: 0.3589 - val_acc: 0.8772\n",
      "\n",
      "Epoch 00033: val_loss did not improve from 0.63540\n",
      "Epoch 34/100\n",
      " - 1s - loss: 0.3816 - acc: 0.8665 - val_loss: 0.3589 - val_acc: 0.8772\n",
      "\n",
      "Epoch 00034: val_loss did not improve from 0.63540\n",
      "Epoch 35/100\n",
      " - 1s - loss: 0.3812 - acc: 0.8665 - val_loss: 0.3588 - val_acc: 0.8772\n",
      "\n",
      "Epoch 00035: val_loss did not improve from 0.63540\n",
      "Epoch 36/100\n",
      " - 1s - loss: 0.3817 - acc: 0.8664 - val_loss: 0.3588 - val_acc: 0.8772\n",
      "\n",
      "Epoch 00036: val_loss did not improve from 0.63540\n",
      "Epoch 37/100\n",
      " - 1s - loss: 0.3820 - acc: 0.8664 - val_loss: 0.3588 - val_acc: 0.8772\n",
      "\n",
      "Epoch 00037: val_loss did not improve from 0.63540\n",
      "Epoch 38/100\n",
      " - 2s - loss: 0.3813 - acc: 0.8665 - val_loss: 0.3588 - val_acc: 0.8772\n",
      "\n",
      "Epoch 00038: val_loss did not improve from 0.63540\n",
      "Epoch 39/100\n",
      " - 2s - loss: 0.3811 - acc: 0.8666 - val_loss: 0.3587 - val_acc: 0.8772\n",
      "\n",
      "Epoch 00039: val_loss did not improve from 0.63540\n",
      "Epoch 40/100\n",
      " - 1s - loss: 0.3815 - acc: 0.8665 - val_loss: 0.3587 - val_acc: 0.8772\n",
      "\n",
      "Epoch 00040: val_loss did not improve from 0.63540\n",
      "Epoch 41/100\n",
      " - 1s - loss: 0.3811 - acc: 0.8664 - val_loss: 0.3586 - val_acc: 0.8772\n",
      "\n",
      "Epoch 00041: val_loss did not improve from 0.63540\n",
      "Epoch 42/100\n",
      " - 1s - loss: 0.3814 - acc: 0.8664 - val_loss: 0.3586 - val_acc: 0.8772\n",
      "\n",
      "Epoch 00042: val_loss did not improve from 0.63540\n",
      "Epoch 43/100\n",
      " - 1s - loss: 0.3815 - acc: 0.8665 - val_loss: 0.3586 - val_acc: 0.8772\n",
      "\n",
      "Epoch 00043: val_loss did not improve from 0.63540\n",
      "Epoch 44/100\n",
      " - 1s - loss: 0.3822 - acc: 0.8664 - val_loss: 0.3586 - val_acc: 0.8772\n",
      "\n",
      "Epoch 00044: val_loss did not improve from 0.63540\n",
      "Epoch 45/100\n",
      " - 1s - loss: 0.3803 - acc: 0.8665 - val_loss: 0.3585 - val_acc: 0.8772\n",
      "\n",
      "Epoch 00045: val_loss did not improve from 0.63540\n",
      "Epoch 46/100\n",
      " - 1s - loss: 0.3796 - acc: 0.8666 - val_loss: 0.3584 - val_acc: 0.8772\n",
      "\n",
      "Epoch 00046: val_loss did not improve from 0.63540\n",
      "Epoch 47/100\n",
      " - 1s - loss: 0.3822 - acc: 0.8666 - val_loss: 0.3585 - val_acc: 0.8772\n",
      "\n",
      "Epoch 00047: val_loss did not improve from 0.63540\n",
      "Epoch 48/100\n",
      " - 1s - loss: 0.3809 - acc: 0.8665 - val_loss: 0.3585 - val_acc: 0.8772\n"
     ]
    },
    {
     "name": "stdout",
     "output_type": "stream",
     "text": [
      "\n",
      "Epoch 00048: val_loss did not improve from 0.63540\n",
      "Epoch 49/100\n",
      " - 1s - loss: 0.3811 - acc: 0.8665 - val_loss: 0.3585 - val_acc: 0.8772\n",
      "\n",
      "Epoch 00049: val_loss did not improve from 0.63540\n",
      "Epoch 50/100\n",
      " - 1s - loss: 0.3815 - acc: 0.8664 - val_loss: 0.3585 - val_acc: 0.8772\n",
      "\n",
      "Epoch 00050: val_loss did not improve from 0.63540\n",
      "Epoch 51/100\n",
      " - 2s - loss: 0.3809 - acc: 0.8665 - val_loss: 0.3584 - val_acc: 0.8772\n",
      "\n",
      "Epoch 00051: val_loss did not improve from 0.63540\n",
      "Epoch 52/100\n",
      " - 1s - loss: 0.3817 - acc: 0.8666 - val_loss: 0.3585 - val_acc: 0.8772\n",
      "\n",
      "Epoch 00052: val_loss did not improve from 0.63540\n",
      "Epoch 53/100\n",
      " - 1s - loss: 0.3811 - acc: 0.8665 - val_loss: 0.3585 - val_acc: 0.8772\n",
      "\n",
      "Epoch 00053: val_loss did not improve from 0.63540\n",
      "Epoch 54/100\n",
      " - 1s - loss: 0.3810 - acc: 0.8664 - val_loss: 0.3584 - val_acc: 0.8772\n",
      "\n",
      "Epoch 00054: val_loss did not improve from 0.63540\n",
      "Epoch 55/100\n",
      " - 2s - loss: 0.3805 - acc: 0.8666 - val_loss: 0.3584 - val_acc: 0.8772\n",
      "\n",
      "Epoch 00055: val_loss did not improve from 0.63540\n",
      "Epoch 56/100\n",
      " - 1s - loss: 0.3815 - acc: 0.8665 - val_loss: 0.3585 - val_acc: 0.8772\n",
      "\n",
      "Epoch 00056: val_loss did not improve from 0.63540\n",
      "Epoch 57/100\n",
      " - 1s - loss: 0.3811 - acc: 0.8664 - val_loss: 0.3585 - val_acc: 0.8772\n",
      "\n",
      "Epoch 00057: val_loss did not improve from 0.63540\n",
      "Epoch 58/100\n",
      " - 1s - loss: 0.3818 - acc: 0.8664 - val_loss: 0.3585 - val_acc: 0.8772\n",
      "\n",
      "Epoch 00058: val_loss did not improve from 0.63540\n",
      "Epoch 59/100\n",
      " - 1s - loss: 0.3812 - acc: 0.8664 - val_loss: 0.3585 - val_acc: 0.8772\n",
      "\n",
      "Epoch 00059: val_loss did not improve from 0.63540\n",
      "Epoch 60/100\n",
      " - 1s - loss: 0.3813 - acc: 0.8666 - val_loss: 0.3585 - val_acc: 0.8772\n",
      "\n",
      "Epoch 00060: val_loss did not improve from 0.63540\n",
      "Epoch 61/100\n",
      " - 1s - loss: 0.3818 - acc: 0.8665 - val_loss: 0.3585 - val_acc: 0.8772\n",
      "\n",
      "Epoch 00061: val_loss did not improve from 0.63540\n",
      "Epoch 62/100\n",
      " - 2s - loss: 0.3815 - acc: 0.8665 - val_loss: 0.3585 - val_acc: 0.8772\n",
      "\n",
      "Epoch 00062: val_loss did not improve from 0.63540\n",
      "Epoch 63/100\n",
      " - 1s - loss: 0.3811 - acc: 0.8665 - val_loss: 0.3585 - val_acc: 0.8772\n",
      "\n",
      "Epoch 00063: val_loss did not improve from 0.63540\n",
      "Epoch 64/100\n",
      " - 1s - loss: 0.3816 - acc: 0.8665 - val_loss: 0.3585 - val_acc: 0.8772\n",
      "\n",
      "Epoch 00064: val_loss did not improve from 0.63540\n",
      "Epoch 65/100\n",
      " - 1s - loss: 0.3808 - acc: 0.8666 - val_loss: 0.3585 - val_acc: 0.8772\n",
      "\n",
      "Epoch 00065: val_loss did not improve from 0.63540\n",
      "Epoch 66/100\n",
      " - 1s - loss: 0.3807 - acc: 0.8665 - val_loss: 0.3584 - val_acc: 0.8772\n",
      "\n",
      "Epoch 00066: val_loss did not improve from 0.63540\n",
      "Epoch 67/100\n",
      " - 1s - loss: 0.3809 - acc: 0.8668 - val_loss: 0.3584 - val_acc: 0.8772\n",
      "\n",
      "Epoch 00067: val_loss did not improve from 0.63540\n",
      "Epoch 68/100\n",
      " - 1s - loss: 0.3818 - acc: 0.8665 - val_loss: 0.3585 - val_acc: 0.8772\n",
      "\n",
      "Epoch 00068: val_loss did not improve from 0.63540\n",
      "Epoch 69/100\n",
      " - 1s - loss: 0.3816 - acc: 0.8664 - val_loss: 0.3585 - val_acc: 0.8772\n",
      "\n",
      "Epoch 00069: val_loss did not improve from 0.63540\n",
      "Epoch 70/100\n",
      " - 1s - loss: 0.3811 - acc: 0.8665 - val_loss: 0.3584 - val_acc: 0.8772\n",
      "\n",
      "Epoch 00070: val_loss did not improve from 0.63540\n",
      "Epoch 71/100\n",
      " - 1s - loss: 0.3812 - acc: 0.8666 - val_loss: 0.3585 - val_acc: 0.8772\n",
      "\n",
      "Epoch 00071: val_loss did not improve from 0.63540\n",
      "Epoch 72/100\n",
      " - 1s - loss: 0.3806 - acc: 0.8666 - val_loss: 0.3585 - val_acc: 0.8772\n",
      "\n",
      "Epoch 00072: val_loss did not improve from 0.63540\n",
      "Epoch 73/100\n",
      " - 1s - loss: 0.3813 - acc: 0.8664 - val_loss: 0.3584 - val_acc: 0.8772\n",
      "\n",
      "Epoch 00073: val_loss did not improve from 0.63540\n",
      "Epoch 74/100\n",
      " - 2s - loss: 0.3819 - acc: 0.8666 - val_loss: 0.3585 - val_acc: 0.8772\n",
      "\n",
      "Epoch 00074: val_loss did not improve from 0.63540\n",
      "Epoch 75/100\n",
      " - 2s - loss: 0.3812 - acc: 0.8666 - val_loss: 0.3585 - val_acc: 0.8772\n",
      "\n",
      "Epoch 00075: val_loss did not improve from 0.63540\n",
      "Epoch 76/100\n",
      " - 1s - loss: 0.3822 - acc: 0.8665 - val_loss: 0.3585 - val_acc: 0.8772\n",
      "\n",
      "Epoch 00076: val_loss did not improve from 0.63540\n",
      "Epoch 77/100\n",
      " - 1s - loss: 0.3812 - acc: 0.8664 - val_loss: 0.3585 - val_acc: 0.8772\n",
      "\n",
      "Epoch 00077: val_loss did not improve from 0.63540\n",
      "Epoch 78/100\n",
      " - 1s - loss: 0.3821 - acc: 0.8665 - val_loss: 0.3586 - val_acc: 0.8772\n",
      "\n",
      "Epoch 00078: val_loss did not improve from 0.63540\n",
      "Epoch 79/100\n",
      " - 1s - loss: 0.3818 - acc: 0.8665 - val_loss: 0.3586 - val_acc: 0.8772\n",
      "\n",
      "Epoch 00079: val_loss did not improve from 0.63540\n",
      "Epoch 80/100\n",
      " - 1s - loss: 0.3808 - acc: 0.8665 - val_loss: 0.3585 - val_acc: 0.8772\n",
      "\n",
      "Epoch 00080: val_loss did not improve from 0.63540\n",
      "Epoch 81/100\n",
      " - 1s - loss: 0.3814 - acc: 0.8665 - val_loss: 0.3585 - val_acc: 0.8772\n",
      "\n",
      "Epoch 00081: val_loss did not improve from 0.63540\n",
      "Epoch 82/100\n",
      " - 1s - loss: 0.3814 - acc: 0.8664 - val_loss: 0.3585 - val_acc: 0.8772\n",
      "\n",
      "Epoch 00082: val_loss did not improve from 0.63540\n",
      "Epoch 83/100\n",
      " - 1s - loss: 0.3815 - acc: 0.8664 - val_loss: 0.3585 - val_acc: 0.8772\n",
      "\n",
      "Epoch 00083: val_loss did not improve from 0.63540\n",
      "Epoch 84/100\n",
      " - 1s - loss: 0.3808 - acc: 0.8666 - val_loss: 0.3585 - val_acc: 0.8772\n",
      "\n",
      "Epoch 00084: val_loss did not improve from 0.63540\n",
      "Epoch 85/100\n",
      " - 1s - loss: 0.3812 - acc: 0.8665 - val_loss: 0.3584 - val_acc: 0.8772\n",
      "\n",
      "Epoch 00085: val_loss did not improve from 0.63540\n",
      "Epoch 86/100\n",
      " - 2s - loss: 0.3814 - acc: 0.8664 - val_loss: 0.3585 - val_acc: 0.8772\n",
      "\n",
      "Epoch 00086: val_loss did not improve from 0.63540\n",
      "Epoch 87/100\n",
      " - 1s - loss: 0.3810 - acc: 0.8666 - val_loss: 0.3585 - val_acc: 0.8772\n",
      "\n",
      "Epoch 00087: val_loss did not improve from 0.63540\n",
      "Epoch 88/100\n",
      " - 1s - loss: 0.3818 - acc: 0.8665 - val_loss: 0.3585 - val_acc: 0.8772\n",
      "\n",
      "Epoch 00088: val_loss did not improve from 0.63540\n",
      "Epoch 89/100\n",
      " - 1s - loss: 0.3811 - acc: 0.8664 - val_loss: 0.3585 - val_acc: 0.8772\n",
      "\n",
      "Epoch 00089: val_loss did not improve from 0.63540\n",
      "Epoch 90/100\n",
      " - 1s - loss: 0.3812 - acc: 0.8664 - val_loss: 0.3585 - val_acc: 0.8772\n",
      "\n",
      "Epoch 00090: val_loss did not improve from 0.63540\n",
      "Epoch 91/100\n",
      " - 1s - loss: 0.3820 - acc: 0.8666 - val_loss: 0.3585 - val_acc: 0.8772\n",
      "\n",
      "Epoch 00091: val_loss did not improve from 0.63540\n",
      "Epoch 92/100\n",
      " - 1s - loss: 0.3817 - acc: 0.8665 - val_loss: 0.3586 - val_acc: 0.8772\n",
      "\n",
      "Epoch 00092: val_loss did not improve from 0.63540\n",
      "Epoch 93/100\n",
      " - 1s - loss: 0.3809 - acc: 0.8664 - val_loss: 0.3586 - val_acc: 0.8772\n",
      "\n",
      "Epoch 00093: val_loss did not improve from 0.63540\n",
      "Epoch 94/100\n",
      " - 1s - loss: 0.3811 - acc: 0.8665 - val_loss: 0.3585 - val_acc: 0.8772\n",
      "\n",
      "Epoch 00094: val_loss did not improve from 0.63540\n",
      "Epoch 95/100\n",
      " - 1s - loss: 0.3820 - acc: 0.8663 - val_loss: 0.3586 - val_acc: 0.8772\n",
      "\n",
      "Epoch 00095: val_loss did not improve from 0.63540\n",
      "Epoch 96/100\n",
      " - 2s - loss: 0.3821 - acc: 0.8665 - val_loss: 0.3586 - val_acc: 0.8772\n",
      "\n",
      "Epoch 00096: val_loss did not improve from 0.63540\n",
      "Epoch 97/100\n",
      " - 1s - loss: 0.3816 - acc: 0.8664 - val_loss: 0.3586 - val_acc: 0.8772\n",
      "\n",
      "Epoch 00097: val_loss did not improve from 0.63540\n",
      "Epoch 98/100\n",
      " - 2s - loss: 0.3811 - acc: 0.8664 - val_loss: 0.3586 - val_acc: 0.8772\n",
      "\n",
      "Epoch 00098: val_loss did not improve from 0.63540\n",
      "Epoch 99/100\n",
      " - 1s - loss: 0.3814 - acc: 0.8665 - val_loss: 0.3585 - val_acc: 0.8772\n",
      "\n",
      "Epoch 00099: val_loss did not improve from 0.63540\n",
      "Epoch 100/100\n",
      " - 1s - loss: 0.3813 - acc: 0.8665 - val_loss: 0.3585 - val_acc: 0.8772\n",
      "\n",
      "Epoch 00100: val_loss did not improve from 0.63540\n"
     ]
    },
    {
     "data": {
      "text/plain": [
       "<keras.callbacks.History at 0x1c3c4572788>"
      ]
     },
     "execution_count": 36,
     "metadata": {},
     "output_type": "execute_result"
    }
   ],
   "source": [
    "lstm_model.fit(x = X, y= y, validation_split=.2, epochs = 100, verbose=2, batch_size=32, callbacks=[checkpoint])"
   ]
  },
  {
   "cell_type": "code",
   "execution_count": 37,
   "id": "8a957837",
   "metadata": {},
   "outputs": [],
   "source": [
    "prediction = lstm_model.predict_proba(X_test,batch_size=32)"
   ]
  },
  {
   "cell_type": "code",
   "execution_count": 38,
   "id": "a81b56d1",
   "metadata": {},
   "outputs": [],
   "source": [
    "fpr, tpr, _ = skmetrics.roc_curve(y_test,  prediction)\n",
    "auc = skmetrics.roc_auc_score(y_test, prediction)"
   ]
  },
  {
   "cell_type": "code",
   "execution_count": 39,
   "id": "19390ae2",
   "metadata": {},
   "outputs": [
    {
     "name": "stdout",
     "output_type": "stream",
     "text": [
      "AUC: 0.6145505539059587\n"
     ]
    }
   ],
   "source": [
    "print(\"AUC:\",auc)"
   ]
  },
  {
   "cell_type": "code",
   "execution_count": 40,
   "id": "34e899c4",
   "metadata": {},
   "outputs": [
    {
     "data": {
      "text/plain": [
       "0.304370515291674"
      ]
     },
     "execution_count": 40,
     "metadata": {},
     "output_type": "execute_result"
    }
   ],
   "source": [
    "average_precision_score(y_test, prediction)"
   ]
  },
  {
   "cell_type": "code",
   "execution_count": null,
   "id": "4c692163",
   "metadata": {},
   "outputs": [
    {
     "data": {
      "text/html": [
       "<script>Jupyter.notebook.kernel.restart()</script>"
      ]
     },
     "metadata": {},
     "output_type": "display_data"
    }
   ],
   "source": [
    "from IPython.display import display_html\n",
    "def restartkernel() :\n",
    "    display_html(\"<script>Jupyter.notebook.kernel.restart()</script>\",raw=True)\n",
    "restartkernel()"
   ]
  },
  {
   "cell_type": "markdown",
   "id": "0c39e0fd",
   "metadata": {},
   "source": [
    "TCN Preparation"
   ]
  },
  {
   "cell_type": "code",
   "execution_count": 1,
   "id": "e32365ac",
   "metadata": {},
   "outputs": [
    {
     "name": "stderr",
     "output_type": "stream",
     "text": [
      "C:\\Users\\SameenShaukat\\anaconda3\\envs\\myenv\\lib\\site-packages\\tensorflow\\python\\framework\\dtypes.py:516: FutureWarning: Passing (type, 1) or '1type' as a synonym of type is deprecated; in a future version of numpy, it will be understood as (type, (1,)) / '(1,)type'.\n",
      "  _np_qint8 = np.dtype([(\"qint8\", np.int8, 1)])\n",
      "C:\\Users\\SameenShaukat\\anaconda3\\envs\\myenv\\lib\\site-packages\\tensorflow\\python\\framework\\dtypes.py:517: FutureWarning: Passing (type, 1) or '1type' as a synonym of type is deprecated; in a future version of numpy, it will be understood as (type, (1,)) / '(1,)type'.\n",
      "  _np_quint8 = np.dtype([(\"quint8\", np.uint8, 1)])\n",
      "C:\\Users\\SameenShaukat\\anaconda3\\envs\\myenv\\lib\\site-packages\\tensorflow\\python\\framework\\dtypes.py:518: FutureWarning: Passing (type, 1) or '1type' as a synonym of type is deprecated; in a future version of numpy, it will be understood as (type, (1,)) / '(1,)type'.\n",
      "  _np_qint16 = np.dtype([(\"qint16\", np.int16, 1)])\n",
      "C:\\Users\\SameenShaukat\\anaconda3\\envs\\myenv\\lib\\site-packages\\tensorflow\\python\\framework\\dtypes.py:519: FutureWarning: Passing (type, 1) or '1type' as a synonym of type is deprecated; in a future version of numpy, it will be understood as (type, (1,)) / '(1,)type'.\n",
      "  _np_quint16 = np.dtype([(\"quint16\", np.uint16, 1)])\n",
      "C:\\Users\\SameenShaukat\\anaconda3\\envs\\myenv\\lib\\site-packages\\tensorflow\\python\\framework\\dtypes.py:520: FutureWarning: Passing (type, 1) or '1type' as a synonym of type is deprecated; in a future version of numpy, it will be understood as (type, (1,)) / '(1,)type'.\n",
      "  _np_qint32 = np.dtype([(\"qint32\", np.int32, 1)])\n",
      "C:\\Users\\SameenShaukat\\anaconda3\\envs\\myenv\\lib\\site-packages\\tensorflow\\python\\framework\\dtypes.py:525: FutureWarning: Passing (type, 1) or '1type' as a synonym of type is deprecated; in a future version of numpy, it will be understood as (type, (1,)) / '(1,)type'.\n",
      "  np_resource = np.dtype([(\"resource\", np.ubyte, 1)])\n",
      "C:\\Users\\SameenShaukat\\anaconda3\\envs\\myenv\\lib\\site-packages\\tensorboard\\compat\\tensorflow_stub\\dtypes.py:541: FutureWarning: Passing (type, 1) or '1type' as a synonym of type is deprecated; in a future version of numpy, it will be understood as (type, (1,)) / '(1,)type'.\n",
      "  _np_qint8 = np.dtype([(\"qint8\", np.int8, 1)])\n",
      "C:\\Users\\SameenShaukat\\anaconda3\\envs\\myenv\\lib\\site-packages\\tensorboard\\compat\\tensorflow_stub\\dtypes.py:542: FutureWarning: Passing (type, 1) or '1type' as a synonym of type is deprecated; in a future version of numpy, it will be understood as (type, (1,)) / '(1,)type'.\n",
      "  _np_quint8 = np.dtype([(\"quint8\", np.uint8, 1)])\n",
      "C:\\Users\\SameenShaukat\\anaconda3\\envs\\myenv\\lib\\site-packages\\tensorboard\\compat\\tensorflow_stub\\dtypes.py:543: FutureWarning: Passing (type, 1) or '1type' as a synonym of type is deprecated; in a future version of numpy, it will be understood as (type, (1,)) / '(1,)type'.\n",
      "  _np_qint16 = np.dtype([(\"qint16\", np.int16, 1)])\n",
      "C:\\Users\\SameenShaukat\\anaconda3\\envs\\myenv\\lib\\site-packages\\tensorboard\\compat\\tensorflow_stub\\dtypes.py:544: FutureWarning: Passing (type, 1) or '1type' as a synonym of type is deprecated; in a future version of numpy, it will be understood as (type, (1,)) / '(1,)type'.\n",
      "  _np_quint16 = np.dtype([(\"quint16\", np.uint16, 1)])\n",
      "C:\\Users\\SameenShaukat\\anaconda3\\envs\\myenv\\lib\\site-packages\\tensorboard\\compat\\tensorflow_stub\\dtypes.py:545: FutureWarning: Passing (type, 1) or '1type' as a synonym of type is deprecated; in a future version of numpy, it will be understood as (type, (1,)) / '(1,)type'.\n",
      "  _np_qint32 = np.dtype([(\"qint32\", np.int32, 1)])\n",
      "C:\\Users\\SameenShaukat\\anaconda3\\envs\\myenv\\lib\\site-packages\\tensorboard\\compat\\tensorflow_stub\\dtypes.py:550: FutureWarning: Passing (type, 1) or '1type' as a synonym of type is deprecated; in a future version of numpy, it will be understood as (type, (1,)) / '(1,)type'.\n",
      "  np_resource = np.dtype([(\"resource\", np.ubyte, 1)])\n"
     ]
    }
   ],
   "source": [
    "import numpy as np\n",
    "import pandas as pd\n",
    "from tensorflow.keras import Sequential\n",
    "from tensorflow.keras.callbacks import Callback\n",
    "from tensorflow.keras.datasets import imdb\n",
    "from tensorflow.keras.layers import Dense, Dropout, Embedding\n",
    "from tensorflow.keras.preprocessing import sequence\n",
    "from sklearn.impute import SimpleImputer\n",
    "from sklearn.preprocessing import StandardScaler\n",
    "import pickle\n",
    "from sklearn.model_selection import *\n",
    "from sklearn import metrics as skmetrics\n",
    "from sklearn.metrics import average_precision_score\n",
    "from tensorflow.keras.callbacks import EarlyStopping, ModelCheckpoint\n",
    "import tensorflow as tf\n",
    "import tensorflow as tf\n",
    "from tcn import TCN\n"
   ]
  },
  {
   "cell_type": "code",
   "execution_count": 2,
   "id": "dd3bae04",
   "metadata": {},
   "outputs": [],
   "source": [
    "path_save = \"C:/Users/SameenShaukat/Downloads/Project/DL4H-Project/local_mimic/save\"\n",
    "path_tables = \"C:/Users/SameenShaukat/Downloads/Project/DL4H-Project/local_mimic/tables\"\n",
    "path_views = \"C:/Users/SameenShaukat/Downloads/Project/DL4H-Project/local_mimic/views\"\n",
    "path_chkpt = \"C:/Users/SameenShaukat/Downloads/Project/DL4H-Project/local_mimic/save/checkpoint\""
   ]
  },
  {
   "cell_type": "code",
   "execution_count": 3,
   "id": "2de93ba7",
   "metadata": {},
   "outputs": [],
   "source": [
    "labtest = pd.read_csv(path_views + '/labtest_dataset.csv')"
   ]
  },
  {
   "cell_type": "code",
   "execution_count": 4,
   "id": "c320261e",
   "metadata": {},
   "outputs": [],
   "source": [
    "features = labtest[labtest.columns[1:29]]"
   ]
  },
  {
   "cell_type": "code",
   "execution_count": 5,
   "id": "0898d17d",
   "metadata": {},
   "outputs": [],
   "source": [
    "labels = labtest['potassium_abnormal_flg']"
   ]
  },
  {
   "cell_type": "code",
   "execution_count": 6,
   "id": "2ac2a986",
   "metadata": {},
   "outputs": [],
   "source": [
    "features = features.apply(lambda x: x.fillna(round(x.mean(),2),axis=0))"
   ]
  },
  {
   "cell_type": "code",
   "execution_count": 7,
   "id": "a9f6d11f",
   "metadata": {},
   "outputs": [],
   "source": [
    "labels = labels.fillna(0)"
   ]
  },
  {
   "cell_type": "code",
   "execution_count": 8,
   "id": "2522b2d7",
   "metadata": {},
   "outputs": [],
   "source": [
    "imputer = SimpleImputer(missing_values=np.nan, strategy='mean',  verbose=0, copy=True)\n",
    "imputer.fit(features)\n",
    "features = imputer.transform(features)\n",
    "scaler = StandardScaler()\n",
    "scaler.fit(features)\n",
    "features = scaler.transform(features)"
   ]
  },
  {
   "cell_type": "code",
   "execution_count": 9,
   "id": "aaf457af",
   "metadata": {},
   "outputs": [],
   "source": [
    "X_train, X_test, y_train, y_test = train_test_split(features, labels, test_size=0.20, random_state=42)"
   ]
  },
  {
   "cell_type": "code",
   "execution_count": 10,
   "id": "f698fef1",
   "metadata": {},
   "outputs": [
    {
     "name": "stdout",
     "output_type": "stream",
     "text": [
      "Loading data...\n",
      "45862 train sequences\n",
      "11466 test sequences\n",
      "x_train shape: (45862, 28)\n",
      "x_test shape: (11466, 28)\n"
     ]
    }
   ],
   "source": [
    "batch_size = 32\n",
    "maxlen = 24\n",
    "max_features = 45862\n",
    "\n",
    "print('Loading data...')\n",
    "print(len(X_train), 'train sequences')\n",
    "print(len(X_test), 'test sequences')\n",
    "\n",
    "\n",
    "print('x_train shape:', X_train.shape)\n",
    "print('x_test shape:', X_test.shape)\n",
    "y_train = np.array(y_train)\n",
    "y_test = np.array(y_test)"
   ]
  },
  {
   "cell_type": "code",
   "execution_count": 11,
   "id": "17c0c9ab",
   "metadata": {},
   "outputs": [],
   "source": [
    "X_train = X_train.reshape(-1,28, 1)\n",
    "X_test = X_test.reshape(-1,28, 1)\n",
    "max_features = 45862"
   ]
  },
  {
   "cell_type": "code",
   "execution_count": 12,
   "id": "dd6ad837",
   "metadata": {},
   "outputs": [
    {
     "name": "stdout",
     "output_type": "stream",
     "text": [
      "WARNING:tensorflow:Entity <bound method TCN.call of <tcn.tcn.TCN object at 0x0000019B93AA5108>> could not be transformed and will be executed as-is. Please report this to the AutgoGraph team. When filing the bug, set the verbosity to 10 (on Linux, `export AUTOGRAPH_VERBOSITY=10`) and attach the full output. Cause: converting <bound method TCN.call of <tcn.tcn.TCN object at 0x0000019B93AA5108>>: AttributeError: module 'gast' has no attribute 'Num'\n",
      "WARNING: Entity <bound method TCN.call of <tcn.tcn.TCN object at 0x0000019B93AA5108>> could not be transformed and will be executed as-is. Please report this to the AutgoGraph team. When filing the bug, set the verbosity to 10 (on Linux, `export AUTOGRAPH_VERBOSITY=10`) and attach the full output. Cause: converting <bound method TCN.call of <tcn.tcn.TCN object at 0x0000019B93AA5108>>: AttributeError: module 'gast' has no attribute 'Num'\n",
      "WARNING:tensorflow:Entity <bound method ResidualBlock.call of <tcn.tcn.ResidualBlock object at 0x0000019B93E4E488>> could not be transformed and will be executed as-is. Please report this to the AutgoGraph team. When filing the bug, set the verbosity to 10 (on Linux, `export AUTOGRAPH_VERBOSITY=10`) and attach the full output. Cause: converting <bound method ResidualBlock.call of <tcn.tcn.ResidualBlock object at 0x0000019B93E4E488>>: AssertionError: Bad argument number for Name: 3, expecting 4\n",
      "WARNING: Entity <bound method ResidualBlock.call of <tcn.tcn.ResidualBlock object at 0x0000019B93E4E488>> could not be transformed and will be executed as-is. Please report this to the AutgoGraph team. When filing the bug, set the verbosity to 10 (on Linux, `export AUTOGRAPH_VERBOSITY=10`) and attach the full output. Cause: converting <bound method ResidualBlock.call of <tcn.tcn.ResidualBlock object at 0x0000019B93E4E488>>: AssertionError: Bad argument number for Name: 3, expecting 4\n",
      "WARNING:tensorflow:Entity <bound method ResidualBlock.call of <tcn.tcn.ResidualBlock object at 0x0000019B93E4E208>> could not be transformed and will be executed as-is. Please report this to the AutgoGraph team. When filing the bug, set the verbosity to 10 (on Linux, `export AUTOGRAPH_VERBOSITY=10`) and attach the full output. Cause: converting <bound method ResidualBlock.call of <tcn.tcn.ResidualBlock object at 0x0000019B93E4E208>>: AssertionError: Bad argument number for Name: 3, expecting 4\n",
      "WARNING: Entity <bound method ResidualBlock.call of <tcn.tcn.ResidualBlock object at 0x0000019B93E4E208>> could not be transformed and will be executed as-is. Please report this to the AutgoGraph team. When filing the bug, set the verbosity to 10 (on Linux, `export AUTOGRAPH_VERBOSITY=10`) and attach the full output. Cause: converting <bound method ResidualBlock.call of <tcn.tcn.ResidualBlock object at 0x0000019B93E4E208>>: AssertionError: Bad argument number for Name: 3, expecting 4\n",
      "WARNING:tensorflow:Entity <bound method ResidualBlock.call of <tcn.tcn.ResidualBlock object at 0x0000019B93E6D148>> could not be transformed and will be executed as-is. Please report this to the AutgoGraph team. When filing the bug, set the verbosity to 10 (on Linux, `export AUTOGRAPH_VERBOSITY=10`) and attach the full output. Cause: converting <bound method ResidualBlock.call of <tcn.tcn.ResidualBlock object at 0x0000019B93E6D148>>: AssertionError: Bad argument number for Name: 3, expecting 4\n",
      "WARNING: Entity <bound method ResidualBlock.call of <tcn.tcn.ResidualBlock object at 0x0000019B93E6D148>> could not be transformed and will be executed as-is. Please report this to the AutgoGraph team. When filing the bug, set the verbosity to 10 (on Linux, `export AUTOGRAPH_VERBOSITY=10`) and attach the full output. Cause: converting <bound method ResidualBlock.call of <tcn.tcn.ResidualBlock object at 0x0000019B93E6D148>>: AssertionError: Bad argument number for Name: 3, expecting 4\n",
      "WARNING:tensorflow:Entity <bound method ResidualBlock.call of <tcn.tcn.ResidualBlock object at 0x0000019B93F16148>> could not be transformed and will be executed as-is. Please report this to the AutgoGraph team. When filing the bug, set the verbosity to 10 (on Linux, `export AUTOGRAPH_VERBOSITY=10`) and attach the full output. Cause: converting <bound method ResidualBlock.call of <tcn.tcn.ResidualBlock object at 0x0000019B93F16148>>: AssertionError: Bad argument number for Name: 3, expecting 4\n",
      "WARNING: Entity <bound method ResidualBlock.call of <tcn.tcn.ResidualBlock object at 0x0000019B93F16148>> could not be transformed and will be executed as-is. Please report this to the AutgoGraph team. When filing the bug, set the verbosity to 10 (on Linux, `export AUTOGRAPH_VERBOSITY=10`) and attach the full output. Cause: converting <bound method ResidualBlock.call of <tcn.tcn.ResidualBlock object at 0x0000019B93F16148>>: AssertionError: Bad argument number for Name: 3, expecting 4\n",
      "WARNING:tensorflow:Entity <bound method ResidualBlock.call of <tcn.tcn.ResidualBlock object at 0x0000019B940D4988>> could not be transformed and will be executed as-is. Please report this to the AutgoGraph team. When filing the bug, set the verbosity to 10 (on Linux, `export AUTOGRAPH_VERBOSITY=10`) and attach the full output. Cause: converting <bound method ResidualBlock.call of <tcn.tcn.ResidualBlock object at 0x0000019B940D4988>>: AssertionError: Bad argument number for Name: 3, expecting 4\n",
      "WARNING: Entity <bound method ResidualBlock.call of <tcn.tcn.ResidualBlock object at 0x0000019B940D4988>> could not be transformed and will be executed as-is. Please report this to the AutgoGraph team. When filing the bug, set the verbosity to 10 (on Linux, `export AUTOGRAPH_VERBOSITY=10`) and attach the full output. Cause: converting <bound method ResidualBlock.call of <tcn.tcn.ResidualBlock object at 0x0000019B940D4988>>: AssertionError: Bad argument number for Name: 3, expecting 4\n",
      "WARNING:tensorflow:Entity <bound method ResidualBlock.call of <tcn.tcn.ResidualBlock object at 0x0000019B94134C48>> could not be transformed and will be executed as-is. Please report this to the AutgoGraph team. When filing the bug, set the verbosity to 10 (on Linux, `export AUTOGRAPH_VERBOSITY=10`) and attach the full output. Cause: converting <bound method ResidualBlock.call of <tcn.tcn.ResidualBlock object at 0x0000019B94134C48>>: AssertionError: Bad argument number for Name: 3, expecting 4\n",
      "WARNING: Entity <bound method ResidualBlock.call of <tcn.tcn.ResidualBlock object at 0x0000019B94134C48>> could not be transformed and will be executed as-is. Please report this to the AutgoGraph team. When filing the bug, set the verbosity to 10 (on Linux, `export AUTOGRAPH_VERBOSITY=10`) and attach the full output. Cause: converting <bound method ResidualBlock.call of <tcn.tcn.ResidualBlock object at 0x0000019B94134C48>>: AssertionError: Bad argument number for Name: 3, expecting 4\n",
      "WARNING:tensorflow:From C:\\Users\\SameenShaukat\\anaconda3\\envs\\myenv\\lib\\site-packages\\tensorflow\\python\\ops\\init_ops.py:1251: calling VarianceScaling.__init__ (from tensorflow.python.ops.init_ops) with dtype is deprecated and will be removed in a future version.\n",
      "Instructions for updating:\n",
      "Call initializer instance with the dtype argument instead of passing it to the constructor\n",
      "Model: \"sequential\"\n",
      "_________________________________________________________________\n",
      "Layer (type)                 Output Shape              Param #   \n",
      "=================================================================\n",
      "tcn (TCN)                    (None, 64)                136256    \n",
      "_________________________________________________________________\n",
      "dropout (Dropout)            (None, 64)                0         \n",
      "_________________________________________________________________\n",
      "dense (Dense)                (None, 1)                 65        \n",
      "=================================================================\n",
      "Total params: 136,321\n",
      "Trainable params: 136,321\n",
      "Non-trainable params: 0\n",
      "_________________________________________________________________\n",
      "WARNING:tensorflow:From C:\\Users\\SameenShaukat\\anaconda3\\envs\\myenv\\lib\\site-packages\\tensorflow\\python\\ops\\nn_impl.py:180: add_dispatch_support.<locals>.wrapper (from tensorflow.python.ops.array_ops) is deprecated and will be removed in a future version.\n",
      "Instructions for updating:\n",
      "Use tf.where in 2.0, which has the same broadcast rule as np.where\n"
     ]
    }
   ],
   "source": [
    "tcn_layer = TCN(input_shape=(28, 1))\n",
    "model = Sequential()\n",
    "model.add(tcn_layer)\n",
    "model.add(Dropout(0.5))\n",
    "model.add(Dense(1, activation='sigmoid'))\n",
    "\n",
    "model.summary()\n",
    "\n",
    "metrics = ['accuracy',\n",
    "          tf.keras.metrics.AUC(),\n",
    "          tf.keras.metrics.Precision()]\n",
    "\n",
    "model.compile('adam', 'binary_crossentropy', metrics=metrics)"
   ]
  },
  {
   "cell_type": "code",
   "execution_count": 15,
   "id": "5144d83f",
   "metadata": {},
   "outputs": [
    {
     "name": "stdout",
     "output_type": "stream",
     "text": [
      "Train...\n",
      "Train on 45862 samples, validate on 11466 samples\n",
      "Epoch 1/10\n",
      "45824/45862 [============================>.] - ETA: 0s - loss: 0.0862 - acc: 0.9683 - auc: 0.9903 - precision: 0.8901\n",
      "Epoch 00001: val_auc improved from -inf to 0.99319, saving model to C:/Users/SameenShaukat/Downloads/Project/DL4H-Project/local_mimic/save/checkpoint/PotassiumLabtest/TCN_best_model\n",
      "45862/45862 [==============================] - 54s 1ms/sample - loss: 0.0862 - acc: 0.9683 - auc: 0.9903 - precision: 0.8900 - val_loss: 0.0911 - val_acc: 0.9631 - val_auc: 0.9932 - val_precision: 0.8061\n",
      "Epoch 2/10\n",
      "45824/45862 [============================>.] - ETA: 0s - loss: 0.0759 - acc: 0.9683 - auc: 0.9921 - precision: 0.8935\n",
      "Epoch 00002: val_auc improved from 0.99319 to 0.99573, saving model to C:/Users/SameenShaukat/Downloads/Project/DL4H-Project/local_mimic/save/checkpoint/PotassiumLabtest/TCN_best_model\n",
      "45862/45862 [==============================] - 50s 1ms/sample - loss: 0.0758 - acc: 0.9684 - auc: 0.9921 - precision: 0.8936 - val_loss: 0.0584 - val_acc: 0.9731 - val_auc: 0.9957 - val_precision: 0.9221\n",
      "Epoch 3/10\n",
      "45824/45862 [============================>.] - ETA: 0s - loss: 0.0659 - acc: 0.9706 - auc: 0.9935 - precision: 0.9011\n",
      "Epoch 00003: val_auc did not improve from 0.99573\n",
      "45862/45862 [==============================] - 49s 1ms/sample - loss: 0.0659 - acc: 0.9706 - auc: 0.9935 - precision: 0.9012 - val_loss: 0.0969 - val_acc: 0.9676 - val_auc: 0.9912 - val_precision: 0.9025\n",
      "Epoch 4/10\n",
      "45824/45862 [============================>.] - ETA: 0s - loss: 0.0625 - acc: 0.9720 - auc: 0.9945 - precision: 0.9120\n",
      "Epoch 00004: val_auc did not improve from 0.99573\n",
      "45862/45862 [==============================] - 49s 1ms/sample - loss: 0.0626 - acc: 0.9720 - auc: 0.9945 - precision: 0.9118 - val_loss: 0.0706 - val_acc: 0.9725 - val_auc: 0.9942 - val_precision: 0.8800\n",
      "Epoch 5/10\n",
      "45856/45862 [============================>.] - ETA: 0s - loss: 0.0597 - acc: 0.9733 - auc: 0.9944 - precision: 0.9187- ETA:\n",
      "Epoch 00005: val_auc did not improve from 0.99573\n",
      "45862/45862 [==============================] - 49s 1ms/sample - loss: 0.0597 - acc: 0.9733 - auc: 0.9944 - precision: 0.9187 - val_loss: 0.0749 - val_acc: 0.9683 - val_auc: 0.9941 - val_precision: 0.8563\n",
      "Epoch 6/10\n",
      "45824/45862 [============================>.] - ETA: 0s - loss: 0.0599 - acc: 0.9723 - auc: 0.9945 - precision: 0.9129\n",
      "Epoch 00006: val_auc did not improve from 0.99573\n",
      "45862/45862 [==============================] - 49s 1ms/sample - loss: 0.0599 - acc: 0.9724 - auc: 0.9945 - precision: 0.9130 - val_loss: 0.0677 - val_acc: 0.9726 - val_auc: 0.9944 - val_precision: 0.9596\n",
      "Epoch 7/10\n",
      "45856/45862 [============================>.] - ETA: 0s - loss: 0.0529 - acc: 0.9753 - auc: 0.9959 - precision: 0.9277\n",
      "Epoch 00007: val_auc improved from 0.99573 to 0.99603, saving model to C:/Users/SameenShaukat/Downloads/Project/DL4H-Project/local_mimic/save/checkpoint/PotassiumLabtest/TCN_best_model\n",
      "45862/45862 [==============================] - 49s 1ms/sample - loss: 0.0529 - acc: 0.9753 - auc: 0.9959 - precision: 0.9277 - val_loss: 0.0528 - val_acc: 0.9735 - val_auc: 0.9960 - val_precision: 0.9586\n",
      "Epoch 8/10\n",
      "45856/45862 [============================>.] - ETA: 0s - loss: 0.0543 - acc: 0.9752 - auc: 0.9956 - precision: 0.9240- ETA: 2s - loss: 0.0551 - acc: 0.974\n",
      "Epoch 00008: val_auc improved from 0.99603 to 0.99607, saving model to C:/Users/SameenShaukat/Downloads/Project/DL4H-Project/local_mimic/save/checkpoint/PotassiumLabtest/TCN_best_model\n",
      "45862/45862 [==============================] - 52s 1ms/sample - loss: 0.0543 - acc: 0.9752 - auc: 0.9956 - precision: 0.9239 - val_loss: 0.0522 - val_acc: 0.9751 - val_auc: 0.9961 - val_precision: 0.9042\n",
      "Epoch 9/10\n",
      "45824/45862 [============================>.] - ETA: 0s - loss: 0.0519 - acc: 0.9756 - auc: 0.9957 - precision: 0.9229- ETA: 1s - loss: 0.0521 - acc: 0.9755 - auc: 0.995\n",
      "Epoch 00009: val_auc improved from 0.99607 to 0.99631, saving model to C:/Users/SameenShaukat/Downloads/Project/DL4H-Project/local_mimic/save/checkpoint/PotassiumLabtest/TCN_best_model\n",
      "45862/45862 [==============================] - 53s 1ms/sample - loss: 0.0518 - acc: 0.9756 - auc: 0.9957 - precision: 0.9229 - val_loss: 0.0496 - val_acc: 0.9751 - val_auc: 0.9963 - val_precision: 0.9423\n",
      "Epoch 10/10\n",
      "45856/45862 [============================>.] - ETA: 0s - loss: 0.0501 - acc: 0.9762 - auc: 0.9961 - precision: 0.9248\n",
      "Epoch 00010: val_auc improved from 0.99631 to 0.99634, saving model to C:/Users/SameenShaukat/Downloads/Project/DL4H-Project/local_mimic/save/checkpoint/PotassiumLabtest/TCN_best_model\n",
      "45862/45862 [==============================] - 52s 1ms/sample - loss: 0.0502 - acc: 0.9762 - auc: 0.9961 - precision: 0.9246 - val_loss: 0.0475 - val_acc: 0.9745 - val_auc: 0.9963 - val_precision: 0.9230\n"
     ]
    },
    {
     "data": {
      "text/plain": [
       "<tensorflow.python.keras.callbacks.History at 0x19b9cd04f88>"
      ]
     },
     "execution_count": 15,
     "metadata": {},
     "output_type": "execute_result"
    }
   ],
   "source": [
    "filename = path_chkpt + '/PotassiumLabtest/TCN_best_model'\n",
    "checkpoint = ModelCheckpoint(filename, monitor='val_auc',verbose=1, save_best_only=True, mode='max')\n",
    "print('Train...')\n",
    "model.fit(\n",
    "    X_train, y_train,\n",
    "    batch_size=batch_size,\n",
    "    validation_data=(X_test, y_test),\n",
    "    callbacks=[checkpoint],\n",
    "    epochs=10\n",
    ")"
   ]
  },
  {
   "cell_type": "markdown",
   "id": "924e54a9",
   "metadata": {},
   "source": [
    "MRM Preparation"
   ]
  },
  {
   "cell_type": "code",
   "execution_count": 34,
   "id": "9fd1d5c5",
   "metadata": {},
   "outputs": [],
   "source": [
    "def mrm_model(input_shape, hidden = 256, targets = 1, learn_rate = 1e-4):\n",
    "    model = Sequential()\n",
    "    model.add(Dropout(0.5))\n",
    "    model.add(Dense(targets))\n",
    "    model.add(Activation ('sigmoid'))\n",
    "    model.compile(loss='binary_crossentropy', \n",
    "    optimizer=Adam(lr=learn_rate, beta_1 =.5 ), metrics=['accuracy'])\n",
    "    return (model)"
   ]
  },
  {
   "cell_type": "code",
   "execution_count": 35,
   "id": "7d67fd1b",
   "metadata": {},
   "outputs": [],
   "source": [
    "filename = path_chkpt + '/PotassiumLabtest/mrm_best_model'\n",
    "checkpoint = ModelCheckpoint(filename, monitor='val_loss', verbose=1, save_best_only=True, mode='max')"
   ]
  },
  {
   "cell_type": "code",
   "execution_count": 36,
   "id": "f3f19f14",
   "metadata": {},
   "outputs": [],
   "source": [
    "X = features\n",
    "y = labels.to_numpy()\n",
    "input_shape = (X.shape[1], X.shape[-1])"
   ]
  },
  {
   "cell_type": "code",
   "execution_count": 37,
   "id": "8a8ed1b1",
   "metadata": {},
   "outputs": [],
   "source": [
    "mrm_model = mrm_model(input_shape=input_shape, targets=1, hidden = 256, learn_rate=1e-4)"
   ]
  },
  {
   "cell_type": "code",
   "execution_count": 38,
   "id": "3530a40f",
   "metadata": {},
   "outputs": [
    {
     "name": "stdout",
     "output_type": "stream",
     "text": [
      "Train on 45862 samples, validate on 11466 samples\n",
      "Epoch 1/10\n",
      " - 1s - loss: 0.8726 - acc: 0.5507 - val_loss: 0.7478 - val_acc: 0.5468\n",
      "\n",
      "Epoch 00001: val_loss improved from -inf to 0.74784, saving model to C:/Users/SameenShaukat/Downloads/Project/DL4H-Project/local_mimic/save/checkpoint/PotassiumLabtest/mrm_best_model\n",
      "Epoch 2/10\n",
      " - 1s - loss: 0.7933 - acc: 0.5841 - val_loss: 0.6915 - val_acc: 0.6057\n",
      "\n",
      "Epoch 00002: val_loss did not improve from 0.74784\n",
      "Epoch 3/10\n",
      " - 1s - loss: 0.7328 - acc: 0.6172 - val_loss: 0.6483 - val_acc: 0.6790\n",
      "\n",
      "Epoch 00003: val_loss did not improve from 0.74784\n",
      "Epoch 4/10\n",
      " - 1s - loss: 0.6838 - acc: 0.6626 - val_loss: 0.6137 - val_acc: 0.7638\n",
      "\n",
      "Epoch 00004: val_loss did not improve from 0.74784\n",
      "Epoch 5/10\n",
      " - 1s - loss: 0.6396 - acc: 0.7113 - val_loss: 0.5850 - val_acc: 0.8053\n",
      "\n",
      "Epoch 00005: val_loss did not improve from 0.74784\n",
      "Epoch 6/10\n",
      " - 1s - loss: 0.6039 - acc: 0.7607 - val_loss: 0.5602 - val_acc: 0.8400\n",
      "\n",
      "Epoch 00006: val_loss did not improve from 0.74784\n",
      "Epoch 7/10\n",
      " - 1s - loss: 0.5783 - acc: 0.7965 - val_loss: 0.5384 - val_acc: 0.8632\n",
      "\n",
      "Epoch 00007: val_loss did not improve from 0.74784\n",
      "Epoch 8/10\n",
      " - 1s - loss: 0.5511 - acc: 0.8305 - val_loss: 0.5194 - val_acc: 0.8729\n",
      "\n",
      "Epoch 00008: val_loss did not improve from 0.74784\n",
      "Epoch 9/10\n",
      " - 1s - loss: 0.5301 - acc: 0.8501 - val_loss: 0.5023 - val_acc: 0.8789\n",
      "\n",
      "Epoch 00009: val_loss did not improve from 0.74784\n",
      "Epoch 10/10\n",
      " - 1s - loss: 0.5136 - acc: 0.8612 - val_loss: 0.4868 - val_acc: 0.8810\n",
      "\n",
      "Epoch 00010: val_loss did not improve from 0.74784\n"
     ]
    },
    {
     "data": {
      "text/plain": [
       "<keras.callbacks.History at 0x2bc27e4ab48>"
      ]
     },
     "execution_count": 38,
     "metadata": {},
     "output_type": "execute_result"
    }
   ],
   "source": [
    "mrm_model.fit(x = X, y= y, validation_split=.2, epochs = 10, verbose=2, batch_size=64, callbacks=[checkpoint])"
   ]
  },
  {
   "cell_type": "code",
   "execution_count": 39,
   "id": "60a0ada0",
   "metadata": {},
   "outputs": [],
   "source": [
    "prediction = mrm_model.predict_proba(X_test,batch_size=64)"
   ]
  },
  {
   "cell_type": "code",
   "execution_count": 40,
   "id": "807dd2fe",
   "metadata": {},
   "outputs": [],
   "source": [
    "fpr, tpr, _ = skmetrics.roc_curve(y_test,  prediction)\n",
    "auc = skmetrics.roc_auc_score(y_test, prediction)"
   ]
  },
  {
   "cell_type": "code",
   "execution_count": 41,
   "id": "a52f75ee",
   "metadata": {},
   "outputs": [
    {
     "data": {
      "text/plain": [
       "(0.6127932589221837, 0.32266361040193026)"
      ]
     },
     "execution_count": 41,
     "metadata": {},
     "output_type": "execute_result"
    }
   ],
   "source": [
    "auc, average_precision_score(y_test, prediction)"
   ]
  },
  {
   "cell_type": "code",
   "execution_count": null,
   "id": "b159b8db",
   "metadata": {},
   "outputs": [],
   "source": []
  }
 ],
 "metadata": {
  "kernelspec": {
   "display_name": "Python 3 (ipykernel)",
   "language": "python",
   "name": "python3"
  },
  "language_info": {
   "codemirror_mode": {
    "name": "ipython",
    "version": 3
   },
   "file_extension": ".py",
   "mimetype": "text/x-python",
   "name": "python",
   "nbconvert_exporter": "python",
   "pygments_lexer": "ipython3",
   "version": "3.7.13"
  }
 },
 "nbformat": 4,
 "nbformat_minor": 5
}
