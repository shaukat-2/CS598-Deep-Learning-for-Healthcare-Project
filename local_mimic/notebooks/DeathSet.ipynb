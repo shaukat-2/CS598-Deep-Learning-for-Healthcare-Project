{
 "cells": [
  {
   "cell_type": "code",
   "execution_count": null,
   "id": "f8472123",
   "metadata": {},
   "outputs": [],
   "source": [
    "import os\n",
    "import numpy as np\n",
    "import utilities\n",
    "import argparse\n",
    "import pickle\n",
    "\n",
    "\n",
    "from sklearn.linear_model import LogisticRegression as LR\n",
    "from sklearn.model_selection import *\n",
    "from sklearn import metrics as skmetrics\n",
    "from sklearn.metrics import average_precision_score\n",
    "from sklearn.svm import SVC as SVM\n",
    "from keras.models import *\n",
    "from keras.layers import *\n",
    "from keras.layers.normalization import BatchNormalization\n",
    "from keras.layers.convolutional import Convolution1D, MaxPooling1D\n",
    "from keras.layers.embeddings import Embedding\n",
    "from keras.optimizers import *\n",
    "from keras.regularizers import *\n",
    "from keras import metrics\n",
    "from keras import Sequential\n",
    "from keras.layers import Conv2D, Flatten, Dense\n",
    "from keras.callbacks import ModelCheckpoint\n",
    "from IPython.display import display_html\n",
    "def restartkernel() :\n",
    "    display_html(\"<script>Jupyter.notebook.kernel.restart()</script>\",raw=True)"
   ]
  },
  {
   "cell_type": "code",
   "execution_count": null,
   "id": "318e6898",
   "metadata": {},
   "outputs": [],
   "source": [
    "path_save = \"/local_mimic/save\"\n",
    "path_tables = \"/local_mimic/tables\"\n",
    "path_views = \"/local_mimic/views\"\n",
    "path_chkpt = \"/local_mimic/save/checkpoint\""
   ]
  },
  {
   "cell_type": "markdown",
   "id": "a50c0bd8",
   "metadata": {},
   "source": [
    "Linear Regression Preparation"
   ]
  },
  {
   "cell_type": "code",
   "execution_count": null,
   "id": "a6a0d346",
   "metadata": {},
   "outputs": [],
   "source": [
    "onehot = np.load(path_save + '/onehot.npy')\n",
    "with open(path_save + '/y', 'rb') as f:\n",
    "    labels = pickle.load(f)"
   ]
  },
  {
   "cell_type": "code",
   "execution_count": null,
   "id": "ba5922fb",
   "metadata": {},
   "outputs": [],
   "source": [
    "dct = {'mort':0, 'readmit': 1, 'los': 2, 'dx':3 }\n",
    "y = np.array([yy[dct['mort']] for yy in labels])"
   ]
  },
  {
   "cell_type": "code",
   "execution_count": null,
   "id": "58fb1599",
   "metadata": {},
   "outputs": [],
   "source": [
    "onehot.shape"
   ]
  },
  {
   "cell_type": "code",
   "execution_count": null,
   "id": "dbc8423c",
   "metadata": {},
   "outputs": [],
   "source": [
    "X = onehot"
   ]
  },
  {
   "cell_type": "code",
   "execution_count": null,
   "id": "acddda01",
   "metadata": {},
   "outputs": [],
   "source": [
    "X_train, X_test, y_train, y_test = train_test_split(X, y, test_size=0.20, random_state=42)"
   ]
  },
  {
   "cell_type": "code",
   "execution_count": null,
   "id": "5bbf3f13",
   "metadata": {},
   "outputs": [],
   "source": [
    "penalty = 'l2'\n",
    "C=0.01533\n",
    "logreg = LR(penalty=penalty, C=C, random_state=42)\n",
    "logreg.fit(X_train, y_train)"
   ]
  },
  {
   "cell_type": "code",
   "execution_count": null,
   "id": "faba1df8",
   "metadata": {},
   "outputs": [],
   "source": [
    "filename = path_chkpt + '/Mortality/lr_best_model'\n",
    "pickle.dump(logreg, open(filename, 'wb'))"
   ]
  },
  {
   "cell_type": "code",
   "execution_count": null,
   "id": "943f21ec",
   "metadata": {},
   "outputs": [],
   "source": [
    "prediction_probabilities = logreg.predict_proba(X_test)[::,1]"
   ]
  },
  {
   "cell_type": "code",
   "execution_count": null,
   "id": "ebaceee3",
   "metadata": {},
   "outputs": [],
   "source": [
    "label_prediction =logreg.predict(X_test)"
   ]
  },
  {
   "cell_type": "code",
   "execution_count": null,
   "id": "fad2cb20",
   "metadata": {},
   "outputs": [],
   "source": [
    "cnf_matrix = skmetrics.confusion_matrix(y_test, label_prediction)\n",
    "cnf_matrix"
   ]
  },
  {
   "cell_type": "code",
   "execution_count": null,
   "id": "acc17716",
   "metadata": {},
   "outputs": [],
   "source": [
    "print(\"Accuracy:\",skmetrics.accuracy_score(y_test, label_prediction))\n",
    "print(\"Precision:\",skmetrics.precision_score(y_test, label_prediction))\n",
    "print(\"Recall:\",skmetrics.recall_score(y_test, label_prediction))"
   ]
  },
  {
   "cell_type": "code",
   "execution_count": null,
   "id": "3dc953fd",
   "metadata": {},
   "outputs": [],
   "source": [
    "fpr, tpr, _ = skmetrics.roc_curve(y_test,  prediction_probabilities)\n",
    "auc = skmetrics.roc_auc_score(y_test, prediction_probabilities)"
   ]
  },
  {
   "cell_type": "code",
   "execution_count": null,
   "id": "9feb53ca",
   "metadata": {},
   "outputs": [],
   "source": [
    "print(\"AUC:\",auc)"
   ]
  },
  {
   "cell_type": "code",
   "execution_count": null,
   "id": "57d7e37c",
   "metadata": {},
   "outputs": [],
   "source": [
    "average_precision_score(y_test, prediction_probabilities)"
   ]
  },
  {
   "cell_type": "markdown",
   "id": "2520f382",
   "metadata": {},
   "source": [
    "SVM Preparation"
   ]
  },
  {
   "cell_type": "code",
   "execution_count": null,
   "id": "d748f66d",
   "metadata": {},
   "outputs": [],
   "source": [
    "svm_model = SVM(kernel = 'linear', probability=True)"
   ]
  },
  {
   "cell_type": "code",
   "execution_count": null,
   "id": "b6950e76",
   "metadata": {},
   "outputs": [],
   "source": [
    "svm_model.fit(X_train, y_train)"
   ]
  },
  {
   "cell_type": "code",
   "execution_count": null,
   "id": "f912b4ab",
   "metadata": {},
   "outputs": [],
   "source": [
    "filename = path_chkpt + '/Mortality/svm_best_model'\n",
    "pickle.dump(svm_model, open(filename, 'wb'))"
   ]
  },
  {
   "cell_type": "code",
   "execution_count": null,
   "id": "55c43d44",
   "metadata": {},
   "outputs": [],
   "source": [
    "prediction_probabilities = svm_model.predict_proba(X_test)[::,1]"
   ]
  },
  {
   "cell_type": "code",
   "execution_count": null,
   "id": "9c4d269b",
   "metadata": {},
   "outputs": [],
   "source": [
    "label_prediction =svm_model.predict(X_test)"
   ]
  },
  {
   "cell_type": "code",
   "execution_count": null,
   "id": "d7703227",
   "metadata": {},
   "outputs": [],
   "source": [
    "cnf_matrix = skmetrics.confusion_matrix(y_test, label_prediction)\n",
    "cnf_matrix"
   ]
  },
  {
   "cell_type": "code",
   "execution_count": null,
   "id": "897e1129",
   "metadata": {},
   "outputs": [],
   "source": [
    "print(\"Accuracy:\",skmetrics.accuracy_score(y_test, label_prediction))\n",
    "print(\"Precision:\",skmetrics.precision_score(y_test, label_prediction))\n",
    "print(\"Recall:\",skmetrics.recall_score(y_test, label_prediction))"
   ]
  },
  {
   "cell_type": "code",
   "execution_count": null,
   "id": "c65e54a1",
   "metadata": {},
   "outputs": [],
   "source": [
    "fpr, tpr, _ = skmetrics.roc_curve(y_test,  prediction_probabilities)\n",
    "auc = skmetrics.roc_auc_score(y_test, prediction_probabilities)"
   ]
  },
  {
   "cell_type": "code",
   "execution_count": null,
   "id": "f2cb2aa0",
   "metadata": {},
   "outputs": [],
   "source": [
    "print(\"AUC:\",auc)"
   ]
  },
  {
   "cell_type": "code",
   "execution_count": null,
   "id": "e3bda37a",
   "metadata": {},
   "outputs": [],
   "source": [
    "average_precision_score(y_test, prediction_probabilities)"
   ]
  },
  {
   "cell_type": "markdown",
   "id": "14fa26bc",
   "metadata": {},
   "source": [
    "LSTM Preparation"
   ]
  },
  {
   "cell_type": "code",
   "execution_count": null,
   "id": "043d2363",
   "metadata": {},
   "outputs": [],
   "source": [
    "X = np.array(np.load(path_save + '/x19.npy'))"
   ]
  },
  {
   "cell_type": "code",
   "execution_count": null,
   "id": "8d7b6565",
   "metadata": {},
   "outputs": [],
   "source": [
    "X_train, X_test, y_train, y_test = train_test_split(X, y, test_size=0.20, random_state=42)"
   ]
  },
  {
   "cell_type": "code",
   "execution_count": null,
   "id": "1bb4e2ce",
   "metadata": {},
   "outputs": [],
   "source": [
    "input_shape = (X.shape[1], X.shape[-1])"
   ]
  },
  {
   "cell_type": "code",
   "execution_count": null,
   "id": "4cd446d2",
   "metadata": {},
   "outputs": [],
   "source": [
    "filename = path_chkpt + '/Mortality/lstm_best_model'\n",
    "checkpoint = ModelCheckpoint(filename, monitor='val_loss', verbose=1, save_best_only=True, mode='max')"
   ]
  },
  {
   "cell_type": "code",
   "execution_count": null,
   "id": "a100ef1d",
   "metadata": {},
   "outputs": [],
   "source": [
    "def lstm_model(input_shape, hidden = 256, targets = 1, learn_rate = 1e-4):\n",
    "    model = Sequential()\n",
    "    model.add(Bidirectional(LSTM(hidden), merge_mode = 'concat'))\n",
    "    model.add(Activation('tanh'))\n",
    "    model.add(Dropout(0.5))\n",
    "    model.add(Dense(targets))\n",
    "    model.add(Activation ('sigmoid'))\n",
    "    model.compile(loss='binary_crossentropy', \n",
    "    optimizer=Adam(lr=learn_rate, beta_1 =.5 ), metrics=['accuracy'])\n",
    "    return (model)"
   ]
  },
  {
   "cell_type": "code",
   "execution_count": null,
   "id": "b2780660",
   "metadata": {},
   "outputs": [],
   "source": [
    "filename = path_chkpt + '/Mortality/lstm_best_model'\n",
    "lstm_model = tf.keras.models.load_model(filename)"
   ]
  },
  {
   "cell_type": "code",
   "execution_count": null,
   "id": "c5d99fd0",
   "metadata": {},
   "outputs": [],
   "source": [
    "lstm_model = lstm_model(input_shape=input_shape, targets=1, hidden = 256, learn_rate=1e-4)"
   ]
  },
  {
   "cell_type": "code",
   "execution_count": null,
   "id": "391583f8",
   "metadata": {},
   "outputs": [],
   "source": [
    "lstm_model.fit(x = X, y= y, validation_split=.2, epochs = 100, verbose=2, batch_size=32, callbacks=[checkpoint])"
   ]
  },
  {
   "cell_type": "code",
   "execution_count": null,
   "id": "5aaf9d36",
   "metadata": {},
   "outputs": [],
   "source": [
    "prediction = lstm_model.predict_proba(X_test,batch_size=32)"
   ]
  },
  {
   "cell_type": "code",
   "execution_count": null,
   "id": "c2b18131",
   "metadata": {},
   "outputs": [],
   "source": [
    "fpr, tpr, _ = skmetrics.roc_curve(y_test,  prediction)\n",
    "auc = skmetrics.roc_auc_score(y_test, prediction)"
   ]
  },
  {
   "cell_type": "code",
   "execution_count": null,
   "id": "29884ef9",
   "metadata": {},
   "outputs": [],
   "source": [
    "print(\"AUC:\",auc)"
   ]
  },
  {
   "cell_type": "code",
   "execution_count": null,
   "id": "6231aeec",
   "metadata": {},
   "outputs": [],
   "source": [
    "average_precision_score(y_test, prediction)"
   ]
  },
  {
   "cell_type": "code",
   "execution_count": null,
   "id": "622a7a64",
   "metadata": {},
   "outputs": [],
   "source": [
    "from IPython.display import display_html\n",
    "def restartkernel() :\n",
    "    display_html(\"<script>Jupyter.notebook.kernel.restart()</script>\",raw=True)\n",
    "restartkernel()"
   ]
  },
  {
   "cell_type": "markdown",
   "id": "55bb176b",
   "metadata": {},
   "source": [
    "TCN Preparation"
   ]
  },
  {
   "cell_type": "code",
   "execution_count": null,
   "id": "201918ba",
   "metadata": {},
   "outputs": [],
   "source": [
    "import numpy as np\n",
    "from tensorflow.keras import Sequential\n",
    "from tensorflow.keras.callbacks import Callback\n",
    "from tensorflow.keras.datasets import imdb\n",
    "from tensorflow.keras.layers import Dense, Dropout, Embedding\n",
    "from tensorflow.keras.preprocessing import sequence\n",
    "import pickle\n",
    "from sklearn.model_selection import *\n",
    "from sklearn import metrics as skmetrics\n",
    "from sklearn.metrics import average_precision_score\n",
    "from tensorflow.keras.callbacks import EarlyStopping, ModelCheckpoint\n",
    "import tensorflow as tf\n",
    "from tcn import TCN"
   ]
  },
  {
   "cell_type": "code",
   "execution_count": null,
   "id": "c3d84f37",
   "metadata": {},
   "outputs": [],
   "source": [
    "path_save = \"/local_mimic/save\"\n",
    "path_tables = \"/local_mimic/tables\"\n",
    "path_views = \"/local_mimic/views\"\n",
    "path_chkpt = \"/local_mimic/save/checkpoint\""
   ]
  },
  {
   "cell_type": "code",
   "execution_count": null,
   "id": "85e995b9",
   "metadata": {},
   "outputs": [],
   "source": [
    "X = np.array(np.load(path_save + '/x19.npy'))\n",
    "with open(path_save + '/y', 'rb') as f:\n",
    "    labels = pickle.load(f)"
   ]
  },
  {
   "cell_type": "code",
   "execution_count": null,
   "id": "bed68a4e",
   "metadata": {},
   "outputs": [],
   "source": [
    "dct = {'mort':0, 'readmit': 1, 'los': 2, 'dx':3 }\n",
    "y = np.array([yy[dct['mort']] for yy in labels])"
   ]
  },
  {
   "cell_type": "code",
   "execution_count": null,
   "id": "7654816d",
   "metadata": {},
   "outputs": [],
   "source": [
    "X_train, X_test, y_train, y_test = train_test_split(X, y, test_size=0.20, random_state=42)"
   ]
  },
  {
   "cell_type": "code",
   "execution_count": null,
   "id": "0ff53cb4",
   "metadata": {},
   "outputs": [],
   "source": [
    "batch_size = 32\n",
    "maxlen = 24\n",
    "max_features = 19714\n",
    "\n",
    "print('Loading data...')\n",
    "print(len(X_train), 'train sequences')\n",
    "print(len(X_test), 'test sequences')\n",
    "\n",
    "nsamples, nx, ny = X_train.shape\n",
    "X_train = X_train.reshape((nsamples,nx*ny))\n",
    "\n",
    "nsamples, nx, ny = X_test.shape\n",
    "X_test = X_test.reshape((nsamples,nx*ny))\n",
    "\n",
    "print('x_train shape:', X_train.shape)\n",
    "print('x_test shape:', X_test.shape)\n",
    "y_train = np.array(y_train)\n",
    "y_test = np.array(y_test)"
   ]
  },
  {
   "cell_type": "code",
   "execution_count": null,
   "id": "4ddb5a31",
   "metadata": {},
   "outputs": [],
   "source": [
    "model = Sequential()\n",
    "model.add(Embedding(max_features, 128, input_shape=(456,)))\n",
    "model.add(TCN(\n",
    "    nb_filters=64,\n",
    "    kernel_size=6,\n",
    "    dilations=[1, 2, 4, 8, 16, 32, 64]\n",
    "))\n",
    "model.add(Dropout(0.5))\n",
    "model.add(Dense(1, activation='sigmoid'))\n",
    "\n",
    "model.summary()\n",
    "\n",
    "metrics = ['accuracy',\n",
    "          tf.keras.metrics.AUC(),\n",
    "          tf.keras.metrics.Precision()]\n",
    "\n",
    "model.compile('adam', 'binary_crossentropy', metrics=metrics)"
   ]
  },
  {
   "cell_type": "code",
   "execution_count": null,
   "id": "4a452a03",
   "metadata": {
    "scrolled": true
   },
   "outputs": [],
   "source": [
    "filename = path_chkpt + '/Mortality/TCN_best_model'\n",
    "checkpoint = ModelCheckpoint(filename, monitor='val_auc',verbose=1, save_best_only=True, mode='max')\n",
    "print('Train...')\n",
    "model.fit(\n",
    "    X_train, y_train,\n",
    "    batch_size=batch_size,\n",
    "    validation_data=(X_test, y_test),\n",
    "    callbacks=[checkpoint],\n",
    "    epochs=10\n",
    ")"
   ]
  },
  {
   "cell_type": "markdown",
   "id": "3a90a81a",
   "metadata": {},
   "source": [
    "MRM"
   ]
  },
  {
   "cell_type": "code",
   "execution_count": null,
   "id": "953682df",
   "metadata": {},
   "outputs": [],
   "source": [
    "def MRM_model(input_shape, hidden = 256, targets = 1, learn_rate = 1e-4):\n",
    "    model = Sequential()\n",
    "    model.add(Bidirectional(LSTM(hidden), merge_mode = 'concat'))\n",
    "    model.add(Dropout(0.5))\n",
    "    model.add(Dense(targets))\n",
    "    model.add(Activation ('sigmoid'))\n",
    "    model.compile(loss='binary_crossentropy', \n",
    "    optimizer=Adam(lr=learn_rate, beta_1 =.5 ), metrics=['accuracy'])\n",
    "    return (model)"
   ]
  },
  {
   "cell_type": "code",
   "execution_count": null,
   "id": "0492020f",
   "metadata": {},
   "outputs": [],
   "source": [
    "MRM_model = MRM_model(input_shape=input_shape, targets=1, hidden = 256, learn_rate=1e-4)"
   ]
  },
  {
   "cell_type": "code",
   "execution_count": null,
   "id": "bc4cc525",
   "metadata": {},
   "outputs": [],
   "source": [
    "filename = path_chkpt + '/Mortality/mrm_best_model'\n",
    "checkpoint = ModelCheckpoint(filename, monitor='val_loss', verbose=1, save_best_only=True, mode='max')"
   ]
  },
  {
   "cell_type": "code",
   "execution_count": null,
   "id": "b290efef",
   "metadata": {},
   "outputs": [],
   "source": [
    "MRM_model.fit(x = X, y= y, validation_split=.2, epochs = 10, verbose=2, batch_size=64, callbacks=[checkpoint])"
   ]
  },
  {
   "cell_type": "code",
   "execution_count": null,
   "id": "1a686e46",
   "metadata": {},
   "outputs": [],
   "source": [
    "prediction = MRM_model.predict_proba(X_test,batch_size=64)"
   ]
  },
  {
   "cell_type": "code",
   "execution_count": null,
   "id": "13a6278b",
   "metadata": {},
   "outputs": [],
   "source": [
    "fpr, tpr, _ = skmetrics.roc_curve(y_test,  prediction)\n",
    "auc = skmetrics.roc_auc_score(y_test, prediction)"
   ]
  },
  {
   "cell_type": "code",
   "execution_count": null,
   "id": "76d26bca",
   "metadata": {},
   "outputs": [],
   "source": [
    "auc, average_precision_score(y_test, prediction)"
   ]
  },
  {
   "cell_type": "code",
   "execution_count": null,
   "id": "d8174cb2",
   "metadata": {},
   "outputs": [],
   "source": []
  }
 ],
 "metadata": {
  "kernelspec": {
   "display_name": "Python 3 (ipykernel)",
   "language": "python",
   "name": "python3"
  },
  "language_info": {
   "codemirror_mode": {
    "name": "ipython",
    "version": 3
   },
   "file_extension": ".py",
   "mimetype": "text/x-python",
   "name": "python",
   "nbconvert_exporter": "python",
   "pygments_lexer": "ipython3",
   "version": "3.7.13"
  }
 },
 "nbformat": 4,
 "nbformat_minor": 5
}
